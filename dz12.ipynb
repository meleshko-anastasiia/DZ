{
 "cells": [
  {
   "cell_type": "code",
   "execution_count": 2,
   "id": "58633fce",
   "metadata": {
    "papermill": {
     "duration": 2.770052,
     "end_time": "2024-08-01T02:25:32.600647",
     "exception": false,
     "start_time": "2024-08-01T02:25:29.830595",
     "status": "completed"
    },
    "tags": []
   },
   "outputs": [],
   "source": [
    "import numpy as np\n",
    "import pandas as pd\n",
    "from scipy import stats\n",
    "import matplotlib.pyplot as plt\n",
    "import seaborn as sns\n",
    "\n",
    "import warnings\n",
    "warnings.filterwarnings('ignore')"
   ]
  },
  {
   "cell_type": "code",
   "execution_count": 4,
   "id": "4f41c72d",
   "metadata": {
    "papermill": {
     "duration": 1.002993,
     "end_time": "2024-08-01T02:25:33.633696",
     "exception": false,
     "start_time": "2024-08-01T02:25:32.630703",
     "status": "completed"
    },
    "tags": []
   },
   "outputs": [
    {
     "data": {
      "text/html": [
       "<div>\n",
       "<style scoped>\n",
       "    .dataframe tbody tr th:only-of-type {\n",
       "        vertical-align: middle;\n",
       "    }\n",
       "\n",
       "    .dataframe tbody tr th {\n",
       "        vertical-align: top;\n",
       "    }\n",
       "\n",
       "    .dataframe thead th {\n",
       "        text-align: right;\n",
       "    }\n",
       "</style>\n",
       "<table border=\"1\" class=\"dataframe\">\n",
       "  <thead>\n",
       "    <tr style=\"text-align: right;\">\n",
       "      <th></th>\n",
       "      <th>Unnamed: 0</th>\n",
       "      <th>user id</th>\n",
       "      <th>test group</th>\n",
       "      <th>converted</th>\n",
       "      <th>total ads</th>\n",
       "      <th>most ads day</th>\n",
       "      <th>most ads hour</th>\n",
       "    </tr>\n",
       "  </thead>\n",
       "  <tbody>\n",
       "    <tr>\n",
       "      <th>0</th>\n",
       "      <td>0</td>\n",
       "      <td>1069124</td>\n",
       "      <td>ad</td>\n",
       "      <td>False</td>\n",
       "      <td>130</td>\n",
       "      <td>Monday</td>\n",
       "      <td>20</td>\n",
       "    </tr>\n",
       "    <tr>\n",
       "      <th>1</th>\n",
       "      <td>1</td>\n",
       "      <td>1119715</td>\n",
       "      <td>ad</td>\n",
       "      <td>False</td>\n",
       "      <td>93</td>\n",
       "      <td>Tuesday</td>\n",
       "      <td>22</td>\n",
       "    </tr>\n",
       "    <tr>\n",
       "      <th>2</th>\n",
       "      <td>2</td>\n",
       "      <td>1144181</td>\n",
       "      <td>ad</td>\n",
       "      <td>False</td>\n",
       "      <td>21</td>\n",
       "      <td>Tuesday</td>\n",
       "      <td>18</td>\n",
       "    </tr>\n",
       "    <tr>\n",
       "      <th>3</th>\n",
       "      <td>3</td>\n",
       "      <td>1435133</td>\n",
       "      <td>ad</td>\n",
       "      <td>False</td>\n",
       "      <td>355</td>\n",
       "      <td>Tuesday</td>\n",
       "      <td>10</td>\n",
       "    </tr>\n",
       "    <tr>\n",
       "      <th>4</th>\n",
       "      <td>4</td>\n",
       "      <td>1015700</td>\n",
       "      <td>ad</td>\n",
       "      <td>False</td>\n",
       "      <td>276</td>\n",
       "      <td>Friday</td>\n",
       "      <td>14</td>\n",
       "    </tr>\n",
       "    <tr>\n",
       "      <th>...</th>\n",
       "      <td>...</td>\n",
       "      <td>...</td>\n",
       "      <td>...</td>\n",
       "      <td>...</td>\n",
       "      <td>...</td>\n",
       "      <td>...</td>\n",
       "      <td>...</td>\n",
       "    </tr>\n",
       "    <tr>\n",
       "      <th>588096</th>\n",
       "      <td>588096</td>\n",
       "      <td>1278437</td>\n",
       "      <td>ad</td>\n",
       "      <td>False</td>\n",
       "      <td>1</td>\n",
       "      <td>Tuesday</td>\n",
       "      <td>23</td>\n",
       "    </tr>\n",
       "    <tr>\n",
       "      <th>588097</th>\n",
       "      <td>588097</td>\n",
       "      <td>1327975</td>\n",
       "      <td>ad</td>\n",
       "      <td>False</td>\n",
       "      <td>1</td>\n",
       "      <td>Tuesday</td>\n",
       "      <td>23</td>\n",
       "    </tr>\n",
       "    <tr>\n",
       "      <th>588098</th>\n",
       "      <td>588098</td>\n",
       "      <td>1038442</td>\n",
       "      <td>ad</td>\n",
       "      <td>False</td>\n",
       "      <td>3</td>\n",
       "      <td>Tuesday</td>\n",
       "      <td>23</td>\n",
       "    </tr>\n",
       "    <tr>\n",
       "      <th>588099</th>\n",
       "      <td>588099</td>\n",
       "      <td>1496395</td>\n",
       "      <td>ad</td>\n",
       "      <td>False</td>\n",
       "      <td>1</td>\n",
       "      <td>Tuesday</td>\n",
       "      <td>23</td>\n",
       "    </tr>\n",
       "    <tr>\n",
       "      <th>588100</th>\n",
       "      <td>588100</td>\n",
       "      <td>1237779</td>\n",
       "      <td>ad</td>\n",
       "      <td>False</td>\n",
       "      <td>1</td>\n",
       "      <td>Tuesday</td>\n",
       "      <td>23</td>\n",
       "    </tr>\n",
       "  </tbody>\n",
       "</table>\n",
       "<p>588101 rows × 7 columns</p>\n",
       "</div>"
      ],
      "text/plain": [
       "        Unnamed: 0  user id test group  converted  total ads most ads day  \\\n",
       "0                0  1069124         ad      False        130       Monday   \n",
       "1                1  1119715         ad      False         93      Tuesday   \n",
       "2                2  1144181         ad      False         21      Tuesday   \n",
       "3                3  1435133         ad      False        355      Tuesday   \n",
       "4                4  1015700         ad      False        276       Friday   \n",
       "...            ...      ...        ...        ...        ...          ...   \n",
       "588096      588096  1278437         ad      False          1      Tuesday   \n",
       "588097      588097  1327975         ad      False          1      Tuesday   \n",
       "588098      588098  1038442         ad      False          3      Tuesday   \n",
       "588099      588099  1496395         ad      False          1      Tuesday   \n",
       "588100      588100  1237779         ad      False          1      Tuesday   \n",
       "\n",
       "        most ads hour  \n",
       "0                  20  \n",
       "1                  22  \n",
       "2                  18  \n",
       "3                  10  \n",
       "4                  14  \n",
       "...               ...  \n",
       "588096             23  \n",
       "588097             23  \n",
       "588098             23  \n",
       "588099             23  \n",
       "588100             23  \n",
       "\n",
       "[588101 rows x 7 columns]"
      ]
     },
     "execution_count": 4,
     "metadata": {},
     "output_type": "execute_result"
    }
   ],
   "source": [
    "df = pd.read_csv(r\"https://raw.githubusercontent.com/meleshko-anastasiia/DZ/refs/heads/main/marketing_AB.csv\")\n",
    "df"
   ]
  },
  {
   "cell_type": "code",
   "execution_count": 5,
   "id": "bea10986",
   "metadata": {
    "papermill": {
     "duration": 0.053697,
     "end_time": "2024-08-01T02:25:33.697453",
     "exception": false,
     "start_time": "2024-08-01T02:25:33.643756",
     "status": "completed"
    },
    "tags": []
   },
   "outputs": [
    {
     "data": {
      "text/html": [
       "<div>\n",
       "<style scoped>\n",
       "    .dataframe tbody tr th:only-of-type {\n",
       "        vertical-align: middle;\n",
       "    }\n",
       "\n",
       "    .dataframe tbody tr th {\n",
       "        vertical-align: top;\n",
       "    }\n",
       "\n",
       "    .dataframe thead th {\n",
       "        text-align: right;\n",
       "    }\n",
       "</style>\n",
       "<table border=\"1\" class=\"dataframe\">\n",
       "  <thead>\n",
       "    <tr style=\"text-align: right;\">\n",
       "      <th></th>\n",
       "      <th>test group</th>\n",
       "      <th>converted</th>\n",
       "      <th>total ads</th>\n",
       "      <th>most ads day</th>\n",
       "      <th>most ads hour</th>\n",
       "    </tr>\n",
       "  </thead>\n",
       "  <tbody>\n",
       "    <tr>\n",
       "      <th>0</th>\n",
       "      <td>ad</td>\n",
       "      <td>False</td>\n",
       "      <td>130</td>\n",
       "      <td>Monday</td>\n",
       "      <td>20</td>\n",
       "    </tr>\n",
       "    <tr>\n",
       "      <th>1</th>\n",
       "      <td>ad</td>\n",
       "      <td>False</td>\n",
       "      <td>93</td>\n",
       "      <td>Tuesday</td>\n",
       "      <td>22</td>\n",
       "    </tr>\n",
       "    <tr>\n",
       "      <th>2</th>\n",
       "      <td>ad</td>\n",
       "      <td>False</td>\n",
       "      <td>21</td>\n",
       "      <td>Tuesday</td>\n",
       "      <td>18</td>\n",
       "    </tr>\n",
       "    <tr>\n",
       "      <th>3</th>\n",
       "      <td>ad</td>\n",
       "      <td>False</td>\n",
       "      <td>355</td>\n",
       "      <td>Tuesday</td>\n",
       "      <td>10</td>\n",
       "    </tr>\n",
       "    <tr>\n",
       "      <th>4</th>\n",
       "      <td>ad</td>\n",
       "      <td>False</td>\n",
       "      <td>276</td>\n",
       "      <td>Friday</td>\n",
       "      <td>14</td>\n",
       "    </tr>\n",
       "    <tr>\n",
       "      <th>...</th>\n",
       "      <td>...</td>\n",
       "      <td>...</td>\n",
       "      <td>...</td>\n",
       "      <td>...</td>\n",
       "      <td>...</td>\n",
       "    </tr>\n",
       "    <tr>\n",
       "      <th>588096</th>\n",
       "      <td>ad</td>\n",
       "      <td>False</td>\n",
       "      <td>1</td>\n",
       "      <td>Tuesday</td>\n",
       "      <td>23</td>\n",
       "    </tr>\n",
       "    <tr>\n",
       "      <th>588097</th>\n",
       "      <td>ad</td>\n",
       "      <td>False</td>\n",
       "      <td>1</td>\n",
       "      <td>Tuesday</td>\n",
       "      <td>23</td>\n",
       "    </tr>\n",
       "    <tr>\n",
       "      <th>588098</th>\n",
       "      <td>ad</td>\n",
       "      <td>False</td>\n",
       "      <td>3</td>\n",
       "      <td>Tuesday</td>\n",
       "      <td>23</td>\n",
       "    </tr>\n",
       "    <tr>\n",
       "      <th>588099</th>\n",
       "      <td>ad</td>\n",
       "      <td>False</td>\n",
       "      <td>1</td>\n",
       "      <td>Tuesday</td>\n",
       "      <td>23</td>\n",
       "    </tr>\n",
       "    <tr>\n",
       "      <th>588100</th>\n",
       "      <td>ad</td>\n",
       "      <td>False</td>\n",
       "      <td>1</td>\n",
       "      <td>Tuesday</td>\n",
       "      <td>23</td>\n",
       "    </tr>\n",
       "  </tbody>\n",
       "</table>\n",
       "<p>588101 rows × 5 columns</p>\n",
       "</div>"
      ],
      "text/plain": [
       "       test group  converted  total ads most ads day  most ads hour\n",
       "0              ad      False        130       Monday             20\n",
       "1              ad      False         93      Tuesday             22\n",
       "2              ad      False         21      Tuesday             18\n",
       "3              ad      False        355      Tuesday             10\n",
       "4              ad      False        276       Friday             14\n",
       "...           ...        ...        ...          ...            ...\n",
       "588096         ad      False          1      Tuesday             23\n",
       "588097         ad      False          1      Tuesday             23\n",
       "588098         ad      False          3      Tuesday             23\n",
       "588099         ad      False          1      Tuesday             23\n",
       "588100         ad      False          1      Tuesday             23\n",
       "\n",
       "[588101 rows x 5 columns]"
      ]
     },
     "execution_count": 5,
     "metadata": {},
     "output_type": "execute_result"
    }
   ],
   "source": [
    "df.drop(columns = ['Unnamed: 0', 'user id'], inplace = True)\n",
    "df"
   ]
  },
  {
   "cell_type": "code",
   "execution_count": 6,
   "id": "b29b7638",
   "metadata": {
    "papermill": {
     "duration": 0.03222,
     "end_time": "2024-08-01T02:25:33.764451",
     "exception": false,
     "start_time": "2024-08-01T02:25:33.732231",
     "status": "completed"
    },
    "tags": []
   },
   "outputs": [
    {
     "data": {
      "text/html": [
       "<div>\n",
       "<style scoped>\n",
       "    .dataframe tbody tr th:only-of-type {\n",
       "        vertical-align: middle;\n",
       "    }\n",
       "\n",
       "    .dataframe tbody tr th {\n",
       "        vertical-align: top;\n",
       "    }\n",
       "\n",
       "    .dataframe thead th {\n",
       "        text-align: right;\n",
       "    }\n",
       "</style>\n",
       "<table border=\"1\" class=\"dataframe\">\n",
       "  <thead>\n",
       "    <tr style=\"text-align: right;\">\n",
       "      <th></th>\n",
       "      <th>test group</th>\n",
       "      <th>converted</th>\n",
       "      <th>total ads</th>\n",
       "      <th>most ads day</th>\n",
       "      <th>most ads hour</th>\n",
       "    </tr>\n",
       "  </thead>\n",
       "  <tbody>\n",
       "    <tr>\n",
       "      <th>0</th>\n",
       "      <td>ad</td>\n",
       "      <td>False</td>\n",
       "      <td>130</td>\n",
       "      <td>Monday</td>\n",
       "      <td>20</td>\n",
       "    </tr>\n",
       "    <tr>\n",
       "      <th>1</th>\n",
       "      <td>ad</td>\n",
       "      <td>False</td>\n",
       "      <td>93</td>\n",
       "      <td>Tuesday</td>\n",
       "      <td>22</td>\n",
       "    </tr>\n",
       "    <tr>\n",
       "      <th>2</th>\n",
       "      <td>ad</td>\n",
       "      <td>False</td>\n",
       "      <td>21</td>\n",
       "      <td>Tuesday</td>\n",
       "      <td>18</td>\n",
       "    </tr>\n",
       "    <tr>\n",
       "      <th>3</th>\n",
       "      <td>ad</td>\n",
       "      <td>False</td>\n",
       "      <td>355</td>\n",
       "      <td>Tuesday</td>\n",
       "      <td>10</td>\n",
       "    </tr>\n",
       "    <tr>\n",
       "      <th>4</th>\n",
       "      <td>ad</td>\n",
       "      <td>False</td>\n",
       "      <td>276</td>\n",
       "      <td>Friday</td>\n",
       "      <td>14</td>\n",
       "    </tr>\n",
       "    <tr>\n",
       "      <th>5</th>\n",
       "      <td>ad</td>\n",
       "      <td>False</td>\n",
       "      <td>734</td>\n",
       "      <td>Saturday</td>\n",
       "      <td>10</td>\n",
       "    </tr>\n",
       "    <tr>\n",
       "      <th>6</th>\n",
       "      <td>ad</td>\n",
       "      <td>False</td>\n",
       "      <td>264</td>\n",
       "      <td>Wednesday</td>\n",
       "      <td>13</td>\n",
       "    </tr>\n",
       "    <tr>\n",
       "      <th>7</th>\n",
       "      <td>ad</td>\n",
       "      <td>False</td>\n",
       "      <td>17</td>\n",
       "      <td>Sunday</td>\n",
       "      <td>18</td>\n",
       "    </tr>\n",
       "    <tr>\n",
       "      <th>8</th>\n",
       "      <td>ad</td>\n",
       "      <td>False</td>\n",
       "      <td>21</td>\n",
       "      <td>Tuesday</td>\n",
       "      <td>19</td>\n",
       "    </tr>\n",
       "    <tr>\n",
       "      <th>9</th>\n",
       "      <td>ad</td>\n",
       "      <td>False</td>\n",
       "      <td>142</td>\n",
       "      <td>Monday</td>\n",
       "      <td>14</td>\n",
       "    </tr>\n",
       "  </tbody>\n",
       "</table>\n",
       "</div>"
      ],
      "text/plain": [
       "  test group  converted  total ads most ads day  most ads hour\n",
       "0         ad      False        130       Monday             20\n",
       "1         ad      False         93      Tuesday             22\n",
       "2         ad      False         21      Tuesday             18\n",
       "3         ad      False        355      Tuesday             10\n",
       "4         ad      False        276       Friday             14\n",
       "5         ad      False        734     Saturday             10\n",
       "6         ad      False        264    Wednesday             13\n",
       "7         ad      False         17       Sunday             18\n",
       "8         ad      False         21      Tuesday             19\n",
       "9         ad      False        142       Monday             14"
      ]
     },
     "execution_count": 6,
     "metadata": {},
     "output_type": "execute_result"
    }
   ],
   "source": [
    "df.head(10)"
   ]
  },
  {
   "cell_type": "code",
   "execution_count": 7,
   "id": "d3a425dd",
   "metadata": {
    "papermill": {
     "duration": 0.023249,
     "end_time": "2024-08-01T02:25:33.798274",
     "exception": false,
     "start_time": "2024-08-01T02:25:33.775025",
     "status": "completed"
    },
    "tags": []
   },
   "outputs": [
    {
     "data": {
      "text/plain": [
       "(588101, 5)"
      ]
     },
     "execution_count": 7,
     "metadata": {},
     "output_type": "execute_result"
    }
   ],
   "source": [
    "df.shape"
   ]
  },
  {
   "cell_type": "code",
   "execution_count": 8,
   "id": "6cfe4626",
   "metadata": {
    "papermill": {
     "duration": 0.02906,
     "end_time": "2024-08-01T02:25:33.838305",
     "exception": false,
     "start_time": "2024-08-01T02:25:33.809245",
     "status": "completed"
    },
    "tags": []
   },
   "outputs": [
    {
     "data": {
      "text/plain": [
       "test group       object\n",
       "converted          bool\n",
       "total ads         int64\n",
       "most ads day     object\n",
       "most ads hour     int64\n",
       "dtype: object"
      ]
     },
     "execution_count": 8,
     "metadata": {},
     "output_type": "execute_result"
    }
   ],
   "source": [
    "df.dtypes"
   ]
  },
  {
   "cell_type": "code",
   "execution_count": 9,
   "id": "6a6c74a2",
   "metadata": {
    "papermill": {
     "duration": 0.166909,
     "end_time": "2024-08-01T02:25:34.020514",
     "exception": false,
     "start_time": "2024-08-01T02:25:33.853605",
     "status": "completed"
    },
    "tags": []
   },
   "outputs": [
    {
     "data": {
      "text/plain": [
       "test group       0\n",
       "converted        0\n",
       "total ads        0\n",
       "most ads day     0\n",
       "most ads hour    0\n",
       "dtype: int64"
      ]
     },
     "execution_count": 9,
     "metadata": {},
     "output_type": "execute_result"
    }
   ],
   "source": [
    "df.isna().sum()"
   ]
  },
  {
   "cell_type": "code",
   "execution_count": 10,
   "id": "7c07409b",
   "metadata": {
    "papermill": {
     "duration": 0.186645,
     "end_time": "2024-08-01T02:25:34.221396",
     "exception": false,
     "start_time": "2024-08-01T02:25:34.034751",
     "status": "completed"
    },
    "tags": []
   },
   "outputs": [
    {
     "name": "stdout",
     "output_type": "stream",
     "text": [
      "<class 'pandas.core.frame.DataFrame'>\n",
      "RangeIndex: 588101 entries, 0 to 588100\n",
      "Data columns (total 5 columns):\n",
      " #   Column         Non-Null Count   Dtype \n",
      "---  ------         --------------   ----- \n",
      " 0   test group     588101 non-null  object\n",
      " 1   converted      588101 non-null  bool  \n",
      " 2   total ads      588101 non-null  int64 \n",
      " 3   most ads day   588101 non-null  object\n",
      " 4   most ads hour  588101 non-null  int64 \n",
      "dtypes: bool(1), int64(2), object(2)\n",
      "memory usage: 18.5+ MB\n"
     ]
    }
   ],
   "source": [
    "df.info()"
   ]
  },
  {
   "cell_type": "code",
   "execution_count": 11,
   "id": "c89d1218",
   "metadata": {
    "papermill": {
     "duration": 0.11788,
     "end_time": "2024-08-01T02:25:34.354294",
     "exception": false,
     "start_time": "2024-08-01T02:25:34.236414",
     "status": "completed"
    },
    "tags": []
   },
   "outputs": [
    {
     "data": {
      "text/html": [
       "<div>\n",
       "<style scoped>\n",
       "    .dataframe tbody tr th:only-of-type {\n",
       "        vertical-align: middle;\n",
       "    }\n",
       "\n",
       "    .dataframe tbody tr th {\n",
       "        vertical-align: top;\n",
       "    }\n",
       "\n",
       "    .dataframe thead th {\n",
       "        text-align: right;\n",
       "    }\n",
       "</style>\n",
       "<table border=\"1\" class=\"dataframe\">\n",
       "  <thead>\n",
       "    <tr style=\"text-align: right;\">\n",
       "      <th></th>\n",
       "      <th>count</th>\n",
       "      <th>mean</th>\n",
       "      <th>std</th>\n",
       "      <th>min</th>\n",
       "      <th>25%</th>\n",
       "      <th>50%</th>\n",
       "      <th>75%</th>\n",
       "      <th>max</th>\n",
       "    </tr>\n",
       "  </thead>\n",
       "  <tbody>\n",
       "    <tr>\n",
       "      <th>total ads</th>\n",
       "      <td>588101.0</td>\n",
       "      <td>24.820876</td>\n",
       "      <td>43.715181</td>\n",
       "      <td>1.0</td>\n",
       "      <td>4.0</td>\n",
       "      <td>13.0</td>\n",
       "      <td>27.0</td>\n",
       "      <td>2065.0</td>\n",
       "    </tr>\n",
       "    <tr>\n",
       "      <th>most ads hour</th>\n",
       "      <td>588101.0</td>\n",
       "      <td>14.469061</td>\n",
       "      <td>4.834634</td>\n",
       "      <td>0.0</td>\n",
       "      <td>11.0</td>\n",
       "      <td>14.0</td>\n",
       "      <td>18.0</td>\n",
       "      <td>23.0</td>\n",
       "    </tr>\n",
       "  </tbody>\n",
       "</table>\n",
       "</div>"
      ],
      "text/plain": [
       "                  count       mean        std  min   25%   50%   75%     max\n",
       "total ads      588101.0  24.820876  43.715181  1.0   4.0  13.0  27.0  2065.0\n",
       "most ads hour  588101.0  14.469061   4.834634  0.0  11.0  14.0  18.0    23.0"
      ]
     },
     "execution_count": 11,
     "metadata": {},
     "output_type": "execute_result"
    }
   ],
   "source": [
    "df.describe().T"
   ]
  },
  {
   "cell_type": "code",
   "execution_count": 12,
   "id": "0811b1b0",
   "metadata": {
    "papermill": {
     "duration": 0.164209,
     "end_time": "2024-08-01T02:25:34.538488",
     "exception": false,
     "start_time": "2024-08-01T02:25:34.374279",
     "status": "completed"
    },
    "tags": []
   },
   "outputs": [
    {
     "name": "stdout",
     "output_type": "stream",
     "text": [
      "Test Group: ['ad' 'psa']\n",
      "Most Ads Day: ['Monday' 'Tuesday' 'Friday' 'Saturday' 'Wednesday' 'Sunday' 'Thursday']\n",
      "Converted: [False  True]\n"
     ]
    }
   ],
   "source": [
    "print(\"Test Group:\", df['test group'].unique())\n",
    "print(\"Most Ads Day:\", df['most ads day'].unique())\n",
    "print(\"Converted:\", df['converted'].unique())"
   ]
  },
  {
   "cell_type": "code",
   "execution_count": 13,
   "id": "86a7af05",
   "metadata": {
    "papermill": {
     "duration": 0.036564,
     "end_time": "2024-08-01T02:25:34.635544",
     "exception": false,
     "start_time": "2024-08-01T02:25:34.598980",
     "status": "completed"
    },
    "tags": []
   },
   "outputs": [
    {
     "data": {
      "text/plain": [
       "test group       object\n",
       "converted         int32\n",
       "total ads         int64\n",
       "most ads day     object\n",
       "most ads hour     int64\n",
       "dtype: object"
      ]
     },
     "execution_count": 13,
     "metadata": {},
     "output_type": "execute_result"
    }
   ],
   "source": [
    "df['converted'] = df['converted'].astype(int)\n",
    "df.dtypes"
   ]
  },
  {
   "cell_type": "code",
   "execution_count": null,
   "id": "729686b5-f06a-4b6d-8842-f595f67904df",
   "metadata": {},
   "outputs": [],
   "source": [
    "# Статистические тесты"
   ]
  },
  {
   "cell_type": "code",
   "execution_count": 14,
   "id": "07ae6548",
   "metadata": {
    "papermill": {
     "duration": 0.357523,
     "end_time": "2024-08-01T02:25:35.042669",
     "exception": false,
     "start_time": "2024-08-01T02:25:34.685146",
     "status": "completed"
    },
    "tags": []
   },
   "outputs": [
    {
     "name": "stdout",
     "output_type": "stream",
     "text": [
      "Test Group Analysis - T-statistic: 7.37040597428566, P-value: 1.7033052627831264e-13\n"
     ]
    }
   ],
   "source": [
    "control_group = df[df['test group'] == 'psa']\n",
    "test_group = df[df['test group'] == 'ad']\n",
    "\n",
    "t_stat, p_val = stats.ttest_ind(test_group['converted'], control_group['converted'])\n",
    "print(f\"Test Group Analysis - T-statistic: {t_stat}, P-value: {p_val}\")"
   ]
  },
  {
   "cell_type": "code",
   "execution_count": 27,
   "id": "f14abeb8",
   "metadata": {
    "papermill": {
     "duration": 0.025432,
     "end_time": "2024-08-01T02:25:35.081017",
     "exception": false,
     "start_time": "2024-08-01T02:25:35.055585",
     "status": "completed"
    },
    "tags": []
   },
   "outputs": [
    {
     "name": "stdout",
     "output_type": "stream",
     "text": [
      "Отвергнем нулевую гипотезу: существует значительная разница в показателях конверсии между группами 'ad' и 'psa'.\n"
     ]
    }
   ],
   "source": [
    "if p_val < 0.05:\n",
    "    print(\"Отвергнем нулевую гипотезу: существует значительная разница в показателях конверсии между группами 'ad' и 'psa'.\")\n",
    "else:\n",
    "    print(\"Не удается отвергнуть нулевую гипотезу: нет существенной разницы в показателях конверсии между группами 'ad' и 'psa'.\")"
   ]
  },
  {
   "cell_type": "code",
   "execution_count": 16,
   "id": "b8247d2e",
   "metadata": {
    "papermill": {
     "duration": 0.907557,
     "end_time": "2024-08-01T02:25:36.002782",
     "exception": false,
     "start_time": "2024-08-01T02:25:35.095225",
     "status": "completed"
    },
    "tags": []
   },
   "outputs": [
    {
     "name": "stdout",
     "output_type": "stream",
     "text": [
      "Most Ads Day Analysis - F-statistic: 68.38818386898062, P-value: 1.8032007655359558e-85\n"
     ]
    }
   ],
   "source": [
    "# Большинство за день\n",
    "anova_result_day = stats.f_oneway(\n",
    "    df[df['most ads day'] == 'Monday']['converted'],\n",
    "    df[df['most ads day'] == 'Tuesday']['converted'],\n",
    "    df[df['most ads day'] == 'Wednesday']['converted'],\n",
    "    df[df['most ads day'] == 'Thursday']['converted'],\n",
    "    df[df['most ads day'] == 'Friday']['converted'],\n",
    "    df[df['most ads day'] == 'Saturday']['converted'],\n",
    "    df[df['most ads day'] == 'Sunday']['converted']\n",
    ")\n",
    "print(f\"Most Ads Day Analysis - F-statistic: {anova_result_day.statistic}, P-value: {anova_result_day.pvalue}\")"
   ]
  },
  {
   "cell_type": "code",
   "execution_count": 36,
   "id": "305f78f4",
   "metadata": {
    "papermill": {
     "duration": 0.039206,
     "end_time": "2024-08-01T02:25:36.061853",
     "exception": false,
     "start_time": "2024-08-01T02:25:36.022647",
     "status": "completed"
    },
    "tags": []
   },
   "outputs": [
    {
     "name": "stdout",
     "output_type": "stream",
     "text": [
      "Отвергнем нулевую гипотезу: день, в который было просмотрено больше всего объявлений, существенно влияет на коэффициент конверсии.\n"
     ]
    }
   ],
   "source": [
    "if anova_result_day.pvalue < 0.05:\n",
    "    print(\"Отвергнем нулевую гипотезу: день, в который было просмотрено больше всего объявлений, существенно влияет на коэффициент конверсии.\")\n",
    "else:\n",
    "    print(\"Не стоит отвергать нулевую гипотезу: день, в который было просмотрено больше всего объявлений, существенно не влияет на коэффициент конверсии.\")"
   ]
  },
  {
   "cell_type": "code",
   "execution_count": 18,
   "id": "d6061d8d",
   "metadata": {
    "papermill": {
     "duration": 0.242655,
     "end_time": "2024-08-01T02:25:36.321351",
     "exception": false,
     "start_time": "2024-08-01T02:25:36.078696",
     "status": "completed"
    },
    "tags": []
   },
   "outputs": [
    {
     "name": "stdout",
     "output_type": "stream",
     "text": [
      "Most Ads Hour Analysis - F-statistic: 18.742037312974496, P-value: 7.482025334833055e-77\n"
     ]
    }
   ],
   "source": [
    "# Анализ большинства рекламных объявлений за час\n",
    "anova_result_hour = stats.f_oneway(\n",
    "    df[df['most ads hour'] == 0]['converted'],\n",
    "    df[df['most ads hour'] == 1]['converted'],\n",
    "    df[df['most ads hour'] == 2]['converted'],\n",
    "    df[df['most ads hour'] == 3]['converted'],\n",
    "    df[df['most ads hour'] == 4]['converted'],\n",
    "    df[df['most ads hour'] == 5]['converted'],\n",
    "    df[df['most ads hour'] == 6]['converted'],\n",
    "    df[df['most ads hour'] == 7]['converted'],\n",
    "    df[df['most ads hour'] == 8]['converted'],\n",
    "    df[df['most ads hour'] == 9]['converted'],\n",
    "    df[df['most ads hour'] == 10]['converted'],\n",
    "    df[df['most ads hour'] == 11]['converted'],\n",
    "    df[df['most ads hour'] == 12]['converted'],\n",
    "    df[df['most ads hour'] == 13]['converted'],\n",
    "    df[df['most ads hour'] == 14]['converted'],\n",
    "    df[df['most ads hour'] == 15]['converted'],\n",
    "    df[df['most ads hour'] == 16]['converted'],\n",
    "    df[df['most ads hour'] == 17]['converted'],\n",
    "    df[df['most ads hour'] == 18]['converted'],\n",
    "    df[df['most ads hour'] == 19]['converted'],\n",
    "    df[df['most ads hour'] == 20]['converted'],\n",
    "    df[df['most ads hour'] == 21]['converted'],\n",
    "    df[df['most ads hour'] == 22]['converted'],\n",
    "    df[df['most ads hour'] == 23]['converted']\n",
    ")\n",
    "print(f\"Most Ads Hour Analysis - F-statistic: {anova_result_hour.statistic}, P-value: {anova_result_hour.pvalue}\")"
   ]
  },
  {
   "cell_type": "code",
   "execution_count": 28,
   "id": "0ba0381c",
   "metadata": {
    "papermill": {
     "duration": 0.026324,
     "end_time": "2024-08-01T02:25:36.361312",
     "exception": false,
     "start_time": "2024-08-01T02:25:36.334988",
     "status": "completed"
    },
    "tags": []
   },
   "outputs": [
    {
     "name": "stdout",
     "output_type": "stream",
     "text": [
      "Анализ часов показа большинства объявлений опровергает нулевую гипотезу: час, в течение которого было просмотрено больше всего объявлений, существенно влияет на коэффициент конверсии.\n"
     ]
    }
   ],
   "source": [
    "if anova_result_hour.pvalue < 0.05:\n",
    "    print(\"Анализ часов показа большинства объявлений опровергает нулевую гипотезу: час, в течение которого было просмотрено больше всего объявлений, существенно влияет на коэффициент конверсии.\")\n",
    "else:\n",
    "    print(\"Не стоит отвергать нулевую гипотезу: час, в течение которого просматривается больше всего рекламы, существенно не влияет на коэффициент конверсии.\")"
   ]
  },
  {
   "cell_type": "code",
   "execution_count": 20,
   "id": "45cfe0fb",
   "metadata": {
    "papermill": {
     "duration": 0.179416,
     "end_time": "2024-08-01T02:25:36.553717",
     "exception": false,
     "start_time": "2024-08-01T02:25:36.374301",
     "status": "completed"
    },
    "tags": []
   },
   "outputs": [
    {
     "name": "stdout",
     "output_type": "stream",
     "text": [
      "Total Ads (Binned) Analysis - F-statistic: 1245.6689124986833, P-value: 0.0\n"
     ]
    }
   ],
   "source": [
    "# Полный анализ рекламы\n",
    "df_subset = df[df['total ads'] < 50].copy()\n",
    "\n",
    "\n",
    "#создать ячейки для total_ads\n",
    "# Создать ячейки для total_ads, используя .loc\n",
    "df_subset.loc[:, 'total_ads_bin'] = pd.cut(df_subset['total ads'], bins=[-1, 1, 5, 10, 20, 30, 40, 50], labels=['0-1', '2-5', '6-10', '11-20', '21-30', '31-40', '41-50'])\n",
    "\n",
    "#выполнить ANOVA для сгруппированных данных\n",
    "anova_result_bin = stats.f_oneway(\n",
    "    df_subset[df_subset['total_ads_bin'] == '0-1']['converted'],\n",
    "    df_subset[df_subset['total_ads_bin'] == '2-5']['converted'],\n",
    "    df_subset[df_subset['total_ads_bin'] == '6-10']['converted'],\n",
    "    df_subset[df_subset['total_ads_bin'] == '11-20']['converted'],\n",
    "    df_subset[df_subset['total_ads_bin'] == '21-30']['converted'],\n",
    "    df_subset[df_subset['total_ads_bin'] == '31-40']['converted'],\n",
    "    df_subset[df_subset['total_ads_bin'] == '41-50']['converted']\n",
    ")\n",
    "\n",
    "print(f\"Total Ads (Binned) Analysis - F-statistic: {anova_result_bin.statistic}, P-value: {anova_result_bin.pvalue}\")"
   ]
  },
  {
   "cell_type": "code",
   "execution_count": 37,
   "id": "7a398fb4",
   "metadata": {
    "papermill": {
     "duration": 0.032159,
     "end_time": "2024-08-01T02:25:36.601006",
     "exception": false,
     "start_time": "2024-08-01T02:25:36.568847",
     "status": "completed"
    },
    "tags": []
   },
   "outputs": [
    {
     "name": "stdout",
     "output_type": "stream",
     "text": [
      "Отвергнем нулевую гипотезу: существует существенная разница в показателях конверсии между различными уровнями общего количества просмотренных объявлений (в бинах).\n"
     ]
    }
   ],
   "source": [
    "if anova_result_bin.pvalue < 0.05:\n",
    "    print(\"Отвергнем нулевую гипотезу: существует существенная разница в показателях конверсии между различными уровнями общего количества просмотренных объявлений (в бинах).\")\n",
    "else:\n",
    "    print(\"Не удается отвергнуть нулевую гипотезу: количество просмотренных рекламных объявлений существенно не влияет на коэффициент конверсии.\")"
   ]
  },
  {
   "cell_type": "code",
   "execution_count": 38,
   "id": "b2bee0bc",
   "metadata": {
    "papermill": {
     "duration": 0.659282,
     "end_time": "2024-08-01T02:25:37.302613",
     "exception": false,
     "start_time": "2024-08-01T02:25:36.643331",
     "status": "completed"
    },
    "tags": []
   },
   "outputs": [
    {
     "data": {
      "image/png": "[encoded data removed]",
      "text/plain": [
       "<Figure size 800x600 with 1 Axes>"
      ]
     },
     "metadata": {},
     "output_type": "display_data"
    }
   ],
   "source": [
    "#коэффициенты конверсии для тестовой группы\n",
    "conversion_rates = df.groupby('test group')['converted'].mean().reset_index()\n",
    "conversion_rates.columns = ['Test Group', 'Conversion Rate']\n",
    "plt.figure(figsize=(8, 6))\n",
    "sns.barplot(x='Test Group', y='Conversion Rate', data=conversion_rates)\n",
    "plt.title('Коэффициенты конверсии для групп')\n",
    "plt.xlabel('Тестовая группа')\n",
    "plt.ylabel('коэффициент конверсии')\n",
    "plt.show()"
   ]
  },
  {
   "cell_type": "code",
   "execution_count": 41,
   "id": "ce894294-bed3-49b8-8461-161dd5a0872f",
   "metadata": {},
   "outputs": [],
   "source": [
    "#1.Основная задача – проанализировать группы клиентов и ответить на вопрос, какой тип рекламы был успешнее\n",
    "# Вывод: AD успешнее чем PSA."
   ]
  },
  {
   "cell_type": "code",
   "execution_count": 65,
   "id": "1f355066-601f-426a-b72b-a4aa2e5942a7",
   "metadata": {},
   "outputs": [
    {
     "data": {
      "image/png": "[encoded data removed]",
      "text/plain": [
       "<Figure size 1000x600 with 1 Axes>"
      ]
     },
     "metadata": {},
     "output_type": "display_data"
    }
   ],
   "source": [
    "day_conversion_rate = df.groupby('most ads day')['converted'].mean().reset_index()\n",
    "plt.figure(figsize=(10, 6))\n",
    "sns.barplot(data=day_conversion_rate, x='most ads day', y='converted')\n",
    "plt.title('Коэффициент конверсии по количеству просмотров рекламы за день')\n",
    "plt.xlabel('День недели')\n",
    "plt.ylabel('коэффициент конверсии')\n",
    "plt.show()"
   ]
  },
  {
   "cell_type": "code",
   "execution_count": null,
   "id": "4319e654-fcb8-4946-9cdc-6e49c0b185be",
   "metadata": {},
   "outputs": [],
   "source": [
    "# Вывод:Коэфициент конверсии больше в понедельник и вторник, а в субботу и четверг реклама менее эффективна"
   ]
  },
  {
   "cell_type": "code",
   "execution_count": 106,
   "id": "78e77240",
   "metadata": {
    "papermill": {
     "duration": 0.596857,
     "end_time": "2024-08-01T02:25:38.619748",
     "exception": false,
     "start_time": "2024-08-01T02:25:38.022891",
     "status": "completed"
    },
    "tags": []
   },
   "outputs": [
    {
     "data": {
      "image/png": "[encoded data removed]",
      "text/plain": [
       "<Figure size 1200x600 with 1 Axes>"
      ]
     },
     "metadata": {},
     "output_type": "display_data"
    }
   ],
   "source": [
    "#коэффициент конверсии по большинству рекламных объявлений в час\n",
    "hour_conversion_rate = df.groupby('most ads hour')['converted'].mean().reset_index()\n",
    "plt.figure(figsize=(12, 6))\n",
    "sns.barplot(data=hour_conversion_rate, x='most ads hour', y='converted')\n",
    "plt.title('Коэффициент конверсии по количеству просмотров рекламы в час')\n",
    "plt.xlabel('Время дня')\n",
    "plt.ylabel('коэффициент конверсии')\n",
    "plt.show()"
   ]
  },
  {
   "cell_type": "code",
   "execution_count": null,
   "id": "5b631869-f22c-4b62-89ad-66712c5b9003",
   "metadata": {},
   "outputs": [],
   "source": [
    "# Вывод: :Коэфициент конверсии больше всего в 16:00, а в 2 часа реклама менее эффективна"
   ]
  },
  {
   "cell_type": "code",
   "execution_count": 102,
   "id": "32a9e30e",
   "metadata": {
    "papermill": {
     "duration": 0.406929,
     "end_time": "2024-08-01T02:25:39.044675",
     "exception": false,
     "start_time": "2024-08-01T02:25:38.637746",
     "status": "completed"
    },
    "tags": []
   },
   "outputs": [
    {
     "data": {
      "image/png": "[encoded data removed]",
      "text/plain": [
       "<Figure size 1000x600 with 1 Axes>"
      ]
     },
     "metadata": {},
     "output_type": "display_data"
    }
   ],
   "source": [
    "#коэффициент конверсии по общему количеству объявлений\n",
    "ads_conversion_rate_bin = df_subset.groupby('total_ads_bin')['converted'].mean().reset_index()\n",
    "plt.figure(figsize=(10, 6))\n",
    "sns.barplot(data=ads_conversion_rate_bin, x='total_ads_bin', y='converted')\n",
    "plt.title('Коэффициент конверсии по общему количеству просмотренных объявлений (в корзине)- Общее количество объявлений < 50')\n",
    "plt.xlabel('Общее количество просмотренных объявлений (в корзине)')\n",
    "plt.ylabel('коэффициент конверсии')\n",
    "plt.show()"
   ]
  },
  {
   "cell_type": "code",
   "execution_count": null,
   "id": "a2353dea-d3d1-401c-b874-fc81f99a1386",
   "metadata": {},
   "outputs": [],
   "source": [
    "# коэффициент конверсии по общему количеству объявлений большую эффективность составляет в значениях 41-50"
   ]
  }
 ],
 "metadata": {
  "kaggle": {
   "accelerator": "none",
   "dataSources": [
    {
     "datasetId": 1660669,
     "sourceId": 2724653,
     "sourceType": "datasetVersion"
    }
   ],
   "dockerImageVersionId": 30746,
   "isGpuEnabled": false,
   "isInternetEnabled": true,
   "language": "python",
   "sourceType": "notebook"
  },
  "kernelspec": {
   "display_name": "Python 3 (ipykernel)",
   "language": "python",
   "name": "python3"
  },
  "language_info": {
   "codemirror_mode": {
    "name": "ipython",
    "version": 3
   },
   "file_extension": ".py",
   "mimetype": "text/x-python",
   "name": "python",
   "nbconvert_exporter": "python",
   "pygments_lexer": "ipython3",
   "version": "3.11.7"
  },
  "papermill": {
   "default_parameters": {},
   "duration": 16.359676,
   "end_time": "2024-08-01T02:25:42.576097",
   "environment_variables": {},
   "exception": null,
   "input_path": "__notebook__.ipynb",
   "output_path": "__notebook__.ipynb",
   "parameters": {},
   "start_time": "2024-08-01T02:25:26.216421",
   "version": "2.5.0"
  }
 },
 "nbformat": 4,
 "nbformat_minor": 5
}
