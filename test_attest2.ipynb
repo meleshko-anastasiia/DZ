{
 "cells": [
  {
   "cell_type": "code",
   "execution_count": null,
   "id": "61cedda9-20fe-435a-9e11-a8fa29a5dbc9",
   "metadata": {},
   "outputs": [],
   "source": [
    "#2.Сформулируйте на базе переменных три вида гипотез"
   ]
  },
  {
   "cell_type": "code",
   "execution_count": 16,
   "id": "fd0a25cd-221b-42f2-bd46-7ca167d67190",
   "metadata": {},
   "outputs": [],
   "source": [
    "#Не увидел гипотезы о взаимосвязи двух категориальных переменных. Вместо этого вы некорректно использовали тест хи-квадрат.\n",
    "\n",
    "#a)Выберите две категориальные переменные и сформулируйте гипотезу об их взаимосвязи\n",
    "#гипотеза о взаимосвязи multy(мультимидийности) и premium сегмента"
   ]
  }
 ],
 "metadata": {
  "kernelspec": {
   "display_name": "Python 3 (ipykernel)",
   "language": "python",
   "name": "python3"
  },
  "language_info": {
   "codemirror_mode": {
    "name": "ipython",
    "version": 3
   },
   "file_extension": ".py",
   "mimetype": "text/x-python",
   "name": "python",
   "nbconvert_exporter": "python",
   "pygments_lexer": "ipython3",
   "version": "3.11.7"
  }
 },
 "nbformat": 4,
 "nbformat_minor": 5
}
