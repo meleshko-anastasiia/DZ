{
 "cells": [
  {
   "cell_type": "code",
   "execution_count": 10,
   "id": "2a022493-c014-4069-afca-456c13ffcf77",
   "metadata": {},
   "outputs": [],
   "source": [
    "import numpy as np\n",
    "import matplotlib.pyplot as plt\n",
    "import seaborn as sns\n",
    "import pandas as pd\n",
    "from scipy import stats\n",
    "import statsmodels.api as sm"
   ]
  },
  {
   "cell_type": "code",
   "execution_count": 11,
   "id": "fabcc80a-4582-41af-8d56-4f10621b13c1",
   "metadata": {},
   "outputs": [
    {
     "name": "stdout",
     "output_type": "stream",
     "text": [
      "Defaulting to user installation because normal site-packages is not writeable\n",
      "Requirement already satisfied: seaborn in d:\\anaconda\\lib\\site-packages (0.12.2)\n",
      "Requirement already satisfied: numpy!=1.24.0,>=1.17 in d:\\anaconda\\lib\\site-packages (from seaborn) (1.26.4)\n",
      "Requirement already satisfied: pandas>=0.25 in d:\\anaconda\\lib\\site-packages (from seaborn) (2.1.4)\n",
      "Requirement already satisfied: matplotlib!=3.6.1,>=3.1 in d:\\anaconda\\lib\\site-packages (from seaborn) (3.8.0)\n",
      "Requirement already satisfied: contourpy>=1.0.1 in d:\\anaconda\\lib\\site-packages (from matplotlib!=3.6.1,>=3.1->seaborn) (1.2.0)\n",
      "Requirement already satisfied: cycler>=0.10 in d:\\anaconda\\lib\\site-packages (from matplotlib!=3.6.1,>=3.1->seaborn) (0.11.0)\n",
      "Requirement already satisfied: fonttools>=4.22.0 in d:\\anaconda\\lib\\site-packages (from matplotlib!=3.6.1,>=3.1->seaborn) (4.25.0)\n",
      "Requirement already satisfied: kiwisolver>=1.0.1 in d:\\anaconda\\lib\\site-packages (from matplotlib!=3.6.1,>=3.1->seaborn) (1.4.4)\n",
      "Requirement already satisfied: packaging>=20.0 in d:\\anaconda\\lib\\site-packages (from matplotlib!=3.6.1,>=3.1->seaborn) (23.1)\n",
      "Requirement already satisfied: pillow>=6.2.0 in d:\\anaconda\\lib\\site-packages (from matplotlib!=3.6.1,>=3.1->seaborn) (10.2.0)\n",
      "Requirement already satisfied: pyparsing>=2.3.1 in d:\\anaconda\\lib\\site-packages (from matplotlib!=3.6.1,>=3.1->seaborn) (3.0.9)\n",
      "Requirement already satisfied: python-dateutil>=2.7 in d:\\anaconda\\lib\\site-packages (from matplotlib!=3.6.1,>=3.1->seaborn) (2.8.2)\n",
      "Requirement already satisfied: pytz>=2020.1 in d:\\anaconda\\lib\\site-packages (from pandas>=0.25->seaborn) (2023.3.post1)\n",
      "Requirement already satisfied: tzdata>=2022.1 in d:\\anaconda\\lib\\site-packages (from pandas>=0.25->seaborn) (2023.3)\n",
      "Requirement already satisfied: six>=1.5 in d:\\anaconda\\lib\\site-packages (from python-dateutil>=2.7->matplotlib!=3.6.1,>=3.1->seaborn) (1.16.0)\n"
     ]
    }
   ],
   "source": [
    "!pip install seaborn"
   ]
  },
  {
   "cell_type": "code",
   "execution_count": 12,
   "id": "decf9e76-b344-4865-93cf-6136a7bb98bf",
   "metadata": {},
   "outputs": [],
   "source": [
    "df_car = pd.read_csv(r\"https://raw.githubusercontent.com/meleshko-anastasiia/DZ/main/Car%20Price.csv\")"
   ]
  },
  {
   "cell_type": "code",
   "execution_count": 13,
   "id": "f7f11177-fdb2-4838-a4cf-d926e6799957",
   "metadata": {},
   "outputs": [
    {
     "data": {
      "text/html": [
       "<div>\n",
       "<style scoped>\n",
       "    .dataframe tbody tr th:only-of-type {\n",
       "        vertical-align: middle;\n",
       "    }\n",
       "\n",
       "    .dataframe tbody tr th {\n",
       "        vertical-align: top;\n",
       "    }\n",
       "\n",
       "    .dataframe thead th {\n",
       "        text-align: right;\n",
       "    }\n",
       "</style>\n",
       "<table border=\"1\" class=\"dataframe\">\n",
       "  <thead>\n",
       "    <tr style=\"text-align: right;\">\n",
       "      <th></th>\n",
       "      <th>Brand</th>\n",
       "      <th>Model</th>\n",
       "      <th>Year</th>\n",
       "      <th>Selling_Price</th>\n",
       "      <th>KM_Driven</th>\n",
       "      <th>Fuel</th>\n",
       "      <th>Seller_Type</th>\n",
       "      <th>Transmission</th>\n",
       "      <th>Owner</th>\n",
       "    </tr>\n",
       "  </thead>\n",
       "  <tbody>\n",
       "    <tr>\n",
       "      <th>0</th>\n",
       "      <td>Maruti</td>\n",
       "      <td>Maruti 800 AC</td>\n",
       "      <td>2007</td>\n",
       "      <td>60000</td>\n",
       "      <td>70000</td>\n",
       "      <td>Petrol</td>\n",
       "      <td>Individual</td>\n",
       "      <td>Manual</td>\n",
       "      <td>First Owner</td>\n",
       "    </tr>\n",
       "    <tr>\n",
       "      <th>1</th>\n",
       "      <td>Maruti</td>\n",
       "      <td>Maruti Wagon R LXI Minor</td>\n",
       "      <td>2007</td>\n",
       "      <td>135000</td>\n",
       "      <td>50000</td>\n",
       "      <td>Petrol</td>\n",
       "      <td>Individual</td>\n",
       "      <td>Manual</td>\n",
       "      <td>First Owner</td>\n",
       "    </tr>\n",
       "    <tr>\n",
       "      <th>2</th>\n",
       "      <td>Hyundai</td>\n",
       "      <td>Hyundai Verna 1.6 SX</td>\n",
       "      <td>2012</td>\n",
       "      <td>600000</td>\n",
       "      <td>100000</td>\n",
       "      <td>Diesel</td>\n",
       "      <td>Individual</td>\n",
       "      <td>Manual</td>\n",
       "      <td>First Owner</td>\n",
       "    </tr>\n",
       "    <tr>\n",
       "      <th>3</th>\n",
       "      <td>Datsun</td>\n",
       "      <td>Datsun RediGO T Option</td>\n",
       "      <td>2017</td>\n",
       "      <td>250000</td>\n",
       "      <td>46000</td>\n",
       "      <td>Petrol</td>\n",
       "      <td>Individual</td>\n",
       "      <td>Manual</td>\n",
       "      <td>First Owner</td>\n",
       "    </tr>\n",
       "    <tr>\n",
       "      <th>4</th>\n",
       "      <td>Honda</td>\n",
       "      <td>Honda Amaze VX i-DTEC</td>\n",
       "      <td>2014</td>\n",
       "      <td>450000</td>\n",
       "      <td>141000</td>\n",
       "      <td>Diesel</td>\n",
       "      <td>Individual</td>\n",
       "      <td>Manual</td>\n",
       "      <td>Second Owner</td>\n",
       "    </tr>\n",
       "    <tr>\n",
       "      <th>...</th>\n",
       "      <td>...</td>\n",
       "      <td>...</td>\n",
       "      <td>...</td>\n",
       "      <td>...</td>\n",
       "      <td>...</td>\n",
       "      <td>...</td>\n",
       "      <td>...</td>\n",
       "      <td>...</td>\n",
       "      <td>...</td>\n",
       "    </tr>\n",
       "    <tr>\n",
       "      <th>4335</th>\n",
       "      <td>Hyundai</td>\n",
       "      <td>Hyundai i20 Magna 1.4 CRDi (Diesel)</td>\n",
       "      <td>2014</td>\n",
       "      <td>409999</td>\n",
       "      <td>80000</td>\n",
       "      <td>Diesel</td>\n",
       "      <td>Individual</td>\n",
       "      <td>Manual</td>\n",
       "      <td>Second Owner</td>\n",
       "    </tr>\n",
       "    <tr>\n",
       "      <th>4336</th>\n",
       "      <td>Hyundai</td>\n",
       "      <td>Hyundai i20 Magna 1.4 CRDi</td>\n",
       "      <td>2014</td>\n",
       "      <td>409999</td>\n",
       "      <td>80000</td>\n",
       "      <td>Diesel</td>\n",
       "      <td>Individual</td>\n",
       "      <td>Manual</td>\n",
       "      <td>Second Owner</td>\n",
       "    </tr>\n",
       "    <tr>\n",
       "      <th>4337</th>\n",
       "      <td>Maruti</td>\n",
       "      <td>Maruti 800 AC BSIII</td>\n",
       "      <td>2009</td>\n",
       "      <td>110000</td>\n",
       "      <td>83000</td>\n",
       "      <td>Petrol</td>\n",
       "      <td>Individual</td>\n",
       "      <td>Manual</td>\n",
       "      <td>Second Owner</td>\n",
       "    </tr>\n",
       "    <tr>\n",
       "      <th>4338</th>\n",
       "      <td>Hyundai</td>\n",
       "      <td>Hyundai Creta 1.6 CRDi SX Option</td>\n",
       "      <td>2016</td>\n",
       "      <td>865000</td>\n",
       "      <td>90000</td>\n",
       "      <td>Diesel</td>\n",
       "      <td>Individual</td>\n",
       "      <td>Manual</td>\n",
       "      <td>First Owner</td>\n",
       "    </tr>\n",
       "    <tr>\n",
       "      <th>4339</th>\n",
       "      <td>Renault</td>\n",
       "      <td>Renault KWID RXT</td>\n",
       "      <td>2016</td>\n",
       "      <td>225000</td>\n",
       "      <td>40000</td>\n",
       "      <td>Petrol</td>\n",
       "      <td>Individual</td>\n",
       "      <td>Manual</td>\n",
       "      <td>First Owner</td>\n",
       "    </tr>\n",
       "  </tbody>\n",
       "</table>\n",
       "<p>4340 rows × 9 columns</p>\n",
       "</div>"
      ],
      "text/plain": [
       "        Brand                                Model  Year  Selling_Price  \\\n",
       "0      Maruti                        Maruti 800 AC  2007          60000   \n",
       "1      Maruti             Maruti Wagon R LXI Minor  2007         135000   \n",
       "2     Hyundai                 Hyundai Verna 1.6 SX  2012         600000   \n",
       "3      Datsun               Datsun RediGO T Option  2017         250000   \n",
       "4       Honda                Honda Amaze VX i-DTEC  2014         450000   \n",
       "...       ...                                  ...   ...            ...   \n",
       "4335  Hyundai  Hyundai i20 Magna 1.4 CRDi (Diesel)  2014         409999   \n",
       "4336  Hyundai           Hyundai i20 Magna 1.4 CRDi  2014         409999   \n",
       "4337   Maruti                  Maruti 800 AC BSIII  2009         110000   \n",
       "4338  Hyundai     Hyundai Creta 1.6 CRDi SX Option  2016         865000   \n",
       "4339  Renault                     Renault KWID RXT  2016         225000   \n",
       "\n",
       "      KM_Driven    Fuel Seller_Type Transmission         Owner  \n",
       "0         70000  Petrol  Individual       Manual   First Owner  \n",
       "1         50000  Petrol  Individual       Manual   First Owner  \n",
       "2        100000  Diesel  Individual       Manual   First Owner  \n",
       "3         46000  Petrol  Individual       Manual   First Owner  \n",
       "4        141000  Diesel  Individual       Manual  Second Owner  \n",
       "...         ...     ...         ...          ...           ...  \n",
       "4335      80000  Diesel  Individual       Manual  Second Owner  \n",
       "4336      80000  Diesel  Individual       Manual  Second Owner  \n",
       "4337      83000  Petrol  Individual       Manual  Second Owner  \n",
       "4338      90000  Diesel  Individual       Manual   First Owner  \n",
       "4339      40000  Petrol  Individual       Manual   First Owner  \n",
       "\n",
       "[4340 rows x 9 columns]"
      ]
     },
     "execution_count": 13,
     "metadata": {},
     "output_type": "execute_result"
    }
   ],
   "source": [
    "df_car"
   ]
  },
  {
   "cell_type": "code",
   "execution_count": 14,
   "id": "5dceee93-2911-4514-a733-cfa13d1f72e4",
   "metadata": {},
   "outputs": [],
   "source": [
    "#1.Очистите его от выбросов и пропусков"
   ]
  },
  {
   "cell_type": "code",
   "execution_count": 15,
   "id": "69042956-4ca2-4e84-a7ea-07db3aa34c79",
   "metadata": {},
   "outputs": [
    {
     "data": {
      "text/plain": [
       "Brand            0\n",
       "Model            0\n",
       "Year             0\n",
       "Selling_Price    0\n",
       "KM_Driven        0\n",
       "Fuel             0\n",
       "Seller_Type      0\n",
       "Transmission     0\n",
       "Owner            0\n",
       "dtype: int64"
      ]
     },
     "execution_count": 15,
     "metadata": {},
     "output_type": "execute_result"
    }
   ],
   "source": [
    "df_car.isna().sum()"
   ]
  },
  {
   "cell_type": "code",
   "execution_count": 16,
   "id": "260f28ba-97d7-4b19-a8c6-00342a8521a5",
   "metadata": {},
   "outputs": [
    {
     "data": {
      "text/html": [
       "<div>\n",
       "<style scoped>\n",
       "    .dataframe tbody tr th:only-of-type {\n",
       "        vertical-align: middle;\n",
       "    }\n",
       "\n",
       "    .dataframe tbody tr th {\n",
       "        vertical-align: top;\n",
       "    }\n",
       "\n",
       "    .dataframe thead th {\n",
       "        text-align: right;\n",
       "    }\n",
       "</style>\n",
       "<table border=\"1\" class=\"dataframe\">\n",
       "  <thead>\n",
       "    <tr style=\"text-align: right;\">\n",
       "      <th></th>\n",
       "      <th>Year</th>\n",
       "      <th>Selling_Price</th>\n",
       "      <th>KM_Driven</th>\n",
       "    </tr>\n",
       "  </thead>\n",
       "  <tbody>\n",
       "    <tr>\n",
       "      <th>count</th>\n",
       "      <td>4340.000000</td>\n",
       "      <td>4.340000e+03</td>\n",
       "      <td>4340.000000</td>\n",
       "    </tr>\n",
       "    <tr>\n",
       "      <th>mean</th>\n",
       "      <td>2013.090783</td>\n",
       "      <td>5.041273e+05</td>\n",
       "      <td>66215.777419</td>\n",
       "    </tr>\n",
       "    <tr>\n",
       "      <th>std</th>\n",
       "      <td>4.215344</td>\n",
       "      <td>5.785487e+05</td>\n",
       "      <td>46644.102194</td>\n",
       "    </tr>\n",
       "    <tr>\n",
       "      <th>min</th>\n",
       "      <td>1992.000000</td>\n",
       "      <td>2.000000e+04</td>\n",
       "      <td>1.000000</td>\n",
       "    </tr>\n",
       "    <tr>\n",
       "      <th>25%</th>\n",
       "      <td>2011.000000</td>\n",
       "      <td>2.087498e+05</td>\n",
       "      <td>35000.000000</td>\n",
       "    </tr>\n",
       "    <tr>\n",
       "      <th>50%</th>\n",
       "      <td>2014.000000</td>\n",
       "      <td>3.500000e+05</td>\n",
       "      <td>60000.000000</td>\n",
       "    </tr>\n",
       "    <tr>\n",
       "      <th>75%</th>\n",
       "      <td>2016.000000</td>\n",
       "      <td>6.000000e+05</td>\n",
       "      <td>90000.000000</td>\n",
       "    </tr>\n",
       "    <tr>\n",
       "      <th>max</th>\n",
       "      <td>2020.000000</td>\n",
       "      <td>8.900000e+06</td>\n",
       "      <td>806599.000000</td>\n",
       "    </tr>\n",
       "  </tbody>\n",
       "</table>\n",
       "</div>"
      ],
      "text/plain": [
       "              Year  Selling_Price      KM_Driven\n",
       "count  4340.000000   4.340000e+03    4340.000000\n",
       "mean   2013.090783   5.041273e+05   66215.777419\n",
       "std       4.215344   5.785487e+05   46644.102194\n",
       "min    1992.000000   2.000000e+04       1.000000\n",
       "25%    2011.000000   2.087498e+05   35000.000000\n",
       "50%    2014.000000   3.500000e+05   60000.000000\n",
       "75%    2016.000000   6.000000e+05   90000.000000\n",
       "max    2020.000000   8.900000e+06  806599.000000"
      ]
     },
     "execution_count": 16,
     "metadata": {},
     "output_type": "execute_result"
    }
   ],
   "source": [
    "df_car.describe()"
   ]
  },
  {
   "cell_type": "code",
   "execution_count": 17,
   "id": "17e3e3e9-c01e-47e4-93f2-020d4b2b47c5",
   "metadata": {},
   "outputs": [
    {
     "data": {
      "text/plain": [
       "<Axes: >"
      ]
     },
     "execution_count": 17,
     "metadata": {},
     "output_type": "execute_result"
    },
    {
     "data": {
      "image/png": "[encoded data removed]",
      "text/plain": [
       "<Figure size 640x480 with 1 Axes>"
      ]
     },
     "metadata": {},
     "output_type": "display_data"
    }
   ],
   "source": [
    "df_car['Selling_Price'].hist(bins = 100)"
   ]
  },
  {
   "cell_type": "code",
   "execution_count": 18,
   "id": "b32fe290-edc0-4626-b313-103d2e80c53c",
   "metadata": {},
   "outputs": [
    {
     "name": "stdout",
     "output_type": "stream",
     "text": [
      "Выбросами будут считаться все продажи, у которых цена находится за пределами интервала [-378125.625, 1186875.375]\n"
     ]
    }
   ],
   "source": [
    "q1 = df_car['Selling_Price'].quantile(0.25)\n",
    "q3 = df_car['Selling_Price'].quantile(0.75)\n",
    "iqr = q3 - q1\n",
    "lower_bound = q1 - 1.5*iqr\n",
    "upper_bound = q3 + 1.5*iqr\n",
    "print(f\"Выбросами будут считаться все продажи, у которых цена находится за пределами интервала [{lower_bound}, {upper_bound}]\")"
   ]
  },
  {
   "cell_type": "code",
   "execution_count": 19,
   "id": "3d0d5ef9-f45e-424e-9dce-995804ad54c1",
   "metadata": {},
   "outputs": [
    {
     "data": {
      "text/html": [
       "<div>\n",
       "<style scoped>\n",
       "    .dataframe tbody tr th:only-of-type {\n",
       "        vertical-align: middle;\n",
       "    }\n",
       "\n",
       "    .dataframe tbody tr th {\n",
       "        vertical-align: top;\n",
       "    }\n",
       "\n",
       "    .dataframe thead th {\n",
       "        text-align: right;\n",
       "    }\n",
       "</style>\n",
       "<table border=\"1\" class=\"dataframe\">\n",
       "  <thead>\n",
       "    <tr style=\"text-align: right;\">\n",
       "      <th></th>\n",
       "      <th>Brand</th>\n",
       "      <th>Model</th>\n",
       "      <th>Year</th>\n",
       "      <th>Selling_Price</th>\n",
       "      <th>KM_Driven</th>\n",
       "      <th>Fuel</th>\n",
       "      <th>Seller_Type</th>\n",
       "      <th>Transmission</th>\n",
       "      <th>Owner</th>\n",
       "    </tr>\n",
       "  </thead>\n",
       "  <tbody>\n",
       "    <tr>\n",
       "      <th>12</th>\n",
       "      <td>Toyota</td>\n",
       "      <td>Toyota Corolla Altis 1.8 VL CVT</td>\n",
       "      <td>2018</td>\n",
       "      <td>1650000</td>\n",
       "      <td>25000</td>\n",
       "      <td>Petrol</td>\n",
       "      <td>Dealer</td>\n",
       "      <td>Automatic</td>\n",
       "      <td>First Owner</td>\n",
       "    </tr>\n",
       "    <tr>\n",
       "      <th>25</th>\n",
       "      <td>Toyota</td>\n",
       "      <td>Toyota Corolla Altis 1.8 VL CVT</td>\n",
       "      <td>2018</td>\n",
       "      <td>1650000</td>\n",
       "      <td>25000</td>\n",
       "      <td>Petrol</td>\n",
       "      <td>Dealer</td>\n",
       "      <td>Automatic</td>\n",
       "      <td>First Owner</td>\n",
       "    </tr>\n",
       "    <tr>\n",
       "      <th>27</th>\n",
       "      <td>Hyundai</td>\n",
       "      <td>Hyundai Venue SX Opt Diesel</td>\n",
       "      <td>2019</td>\n",
       "      <td>1195000</td>\n",
       "      <td>5000</td>\n",
       "      <td>Diesel</td>\n",
       "      <td>Dealer</td>\n",
       "      <td>Manual</td>\n",
       "      <td>First Owner</td>\n",
       "    </tr>\n",
       "    <tr>\n",
       "      <th>29</th>\n",
       "      <td>Jaguar</td>\n",
       "      <td>Jaguar XF 2.2 Litre Luxury</td>\n",
       "      <td>2014</td>\n",
       "      <td>1964999</td>\n",
       "      <td>28000</td>\n",
       "      <td>Diesel</td>\n",
       "      <td>Dealer</td>\n",
       "      <td>Automatic</td>\n",
       "      <td>First Owner</td>\n",
       "    </tr>\n",
       "    <tr>\n",
       "      <th>30</th>\n",
       "      <td>Mercedes-Benz</td>\n",
       "      <td>Mercedes-Benz New C-Class 220 CDI AT</td>\n",
       "      <td>2013</td>\n",
       "      <td>1425000</td>\n",
       "      <td>59000</td>\n",
       "      <td>Diesel</td>\n",
       "      <td>Dealer</td>\n",
       "      <td>Automatic</td>\n",
       "      <td>First Owner</td>\n",
       "    </tr>\n",
       "    <tr>\n",
       "      <th>...</th>\n",
       "      <td>...</td>\n",
       "      <td>...</td>\n",
       "      <td>...</td>\n",
       "      <td>...</td>\n",
       "      <td>...</td>\n",
       "      <td>...</td>\n",
       "      <td>...</td>\n",
       "      <td>...</td>\n",
       "      <td>...</td>\n",
       "    </tr>\n",
       "    <tr>\n",
       "      <th>4224</th>\n",
       "      <td>Toyota</td>\n",
       "      <td>Toyota Fortuner 2.7 2WD AT</td>\n",
       "      <td>2016</td>\n",
       "      <td>2500000</td>\n",
       "      <td>70000</td>\n",
       "      <td>Petrol</td>\n",
       "      <td>Individual</td>\n",
       "      <td>Automatic</td>\n",
       "      <td>Second Owner</td>\n",
       "    </tr>\n",
       "    <tr>\n",
       "      <th>4228</th>\n",
       "      <td>Mahindra</td>\n",
       "      <td>Mahindra XUV500 W10 AWD</td>\n",
       "      <td>2015</td>\n",
       "      <td>1225000</td>\n",
       "      <td>70000</td>\n",
       "      <td>Diesel</td>\n",
       "      <td>Individual</td>\n",
       "      <td>Manual</td>\n",
       "      <td>First Owner</td>\n",
       "    </tr>\n",
       "    <tr>\n",
       "      <th>4304</th>\n",
       "      <td>Audi</td>\n",
       "      <td>Audi Q5 3.0 TDI Quattro Technology</td>\n",
       "      <td>2018</td>\n",
       "      <td>3899000</td>\n",
       "      <td>22000</td>\n",
       "      <td>Diesel</td>\n",
       "      <td>Dealer</td>\n",
       "      <td>Automatic</td>\n",
       "      <td>First Owner</td>\n",
       "    </tr>\n",
       "    <tr>\n",
       "      <th>4311</th>\n",
       "      <td>Toyota</td>\n",
       "      <td>Toyota Camry Hybrid 2.5</td>\n",
       "      <td>2017</td>\n",
       "      <td>1900000</td>\n",
       "      <td>20118</td>\n",
       "      <td>Petrol</td>\n",
       "      <td>Dealer</td>\n",
       "      <td>Automatic</td>\n",
       "      <td>First Owner</td>\n",
       "    </tr>\n",
       "    <tr>\n",
       "      <th>4313</th>\n",
       "      <td>Ford</td>\n",
       "      <td>Ford Endeavour 2.2 Titanium AT 4X2</td>\n",
       "      <td>2019</td>\n",
       "      <td>2800000</td>\n",
       "      <td>10000</td>\n",
       "      <td>Diesel</td>\n",
       "      <td>Individual</td>\n",
       "      <td>Automatic</td>\n",
       "      <td>First Owner</td>\n",
       "    </tr>\n",
       "  </tbody>\n",
       "</table>\n",
       "<p>271 rows × 9 columns</p>\n",
       "</div>"
      ],
      "text/plain": [
       "              Brand                                 Model  Year  \\\n",
       "12           Toyota       Toyota Corolla Altis 1.8 VL CVT  2018   \n",
       "25           Toyota       Toyota Corolla Altis 1.8 VL CVT  2018   \n",
       "27          Hyundai           Hyundai Venue SX Opt Diesel  2019   \n",
       "29           Jaguar            Jaguar XF 2.2 Litre Luxury  2014   \n",
       "30    Mercedes-Benz  Mercedes-Benz New C-Class 220 CDI AT  2013   \n",
       "...             ...                                   ...   ...   \n",
       "4224         Toyota            Toyota Fortuner 2.7 2WD AT  2016   \n",
       "4228       Mahindra               Mahindra XUV500 W10 AWD  2015   \n",
       "4304           Audi    Audi Q5 3.0 TDI Quattro Technology  2018   \n",
       "4311         Toyota               Toyota Camry Hybrid 2.5  2017   \n",
       "4313           Ford    Ford Endeavour 2.2 Titanium AT 4X2  2019   \n",
       "\n",
       "      Selling_Price  KM_Driven    Fuel Seller_Type Transmission         Owner  \n",
       "12          1650000      25000  Petrol      Dealer    Automatic   First Owner  \n",
       "25          1650000      25000  Petrol      Dealer    Automatic   First Owner  \n",
       "27          1195000       5000  Diesel      Dealer       Manual   First Owner  \n",
       "29          1964999      28000  Diesel      Dealer    Automatic   First Owner  \n",
       "30          1425000      59000  Diesel      Dealer    Automatic   First Owner  \n",
       "...             ...        ...     ...         ...          ...           ...  \n",
       "4224        2500000      70000  Petrol  Individual    Automatic  Second Owner  \n",
       "4228        1225000      70000  Diesel  Individual       Manual   First Owner  \n",
       "4304        3899000      22000  Diesel      Dealer    Automatic   First Owner  \n",
       "4311        1900000      20118  Petrol      Dealer    Automatic   First Owner  \n",
       "4313        2800000      10000  Diesel  Individual    Automatic   First Owner  \n",
       "\n",
       "[271 rows x 9 columns]"
      ]
     },
     "execution_count": 19,
     "metadata": {},
     "output_type": "execute_result"
    }
   ],
   "source": [
    "df_car[(df_car['Selling_Price']<=lower_bound)|(df_car['Selling_Price']>=upper_bound)]"
   ]
  },
  {
   "cell_type": "code",
   "execution_count": 20,
   "id": "29976dd3-4a24-4fff-bf98-40f8529f4947",
   "metadata": {},
   "outputs": [
    {
     "data": {
      "text/html": [
       "<div>\n",
       "<style scoped>\n",
       "    .dataframe tbody tr th:only-of-type {\n",
       "        vertical-align: middle;\n",
       "    }\n",
       "\n",
       "    .dataframe tbody tr th {\n",
       "        vertical-align: top;\n",
       "    }\n",
       "\n",
       "    .dataframe thead th {\n",
       "        text-align: right;\n",
       "    }\n",
       "</style>\n",
       "<table border=\"1\" class=\"dataframe\">\n",
       "  <thead>\n",
       "    <tr style=\"text-align: right;\">\n",
       "      <th></th>\n",
       "      <th>Brand</th>\n",
       "      <th>Model</th>\n",
       "      <th>Year</th>\n",
       "      <th>Selling_Price</th>\n",
       "      <th>KM_Driven</th>\n",
       "      <th>Fuel</th>\n",
       "      <th>Seller_Type</th>\n",
       "      <th>Transmission</th>\n",
       "      <th>Owner</th>\n",
       "    </tr>\n",
       "  </thead>\n",
       "  <tbody>\n",
       "    <tr>\n",
       "      <th>0</th>\n",
       "      <td>Maruti</td>\n",
       "      <td>Maruti 800 AC</td>\n",
       "      <td>2007</td>\n",
       "      <td>60000</td>\n",
       "      <td>70000</td>\n",
       "      <td>Petrol</td>\n",
       "      <td>Individual</td>\n",
       "      <td>Manual</td>\n",
       "      <td>First Owner</td>\n",
       "    </tr>\n",
       "    <tr>\n",
       "      <th>1</th>\n",
       "      <td>Maruti</td>\n",
       "      <td>Maruti Wagon R LXI Minor</td>\n",
       "      <td>2007</td>\n",
       "      <td>135000</td>\n",
       "      <td>50000</td>\n",
       "      <td>Petrol</td>\n",
       "      <td>Individual</td>\n",
       "      <td>Manual</td>\n",
       "      <td>First Owner</td>\n",
       "    </tr>\n",
       "    <tr>\n",
       "      <th>2</th>\n",
       "      <td>Hyundai</td>\n",
       "      <td>Hyundai Verna 1.6 SX</td>\n",
       "      <td>2012</td>\n",
       "      <td>600000</td>\n",
       "      <td>100000</td>\n",
       "      <td>Diesel</td>\n",
       "      <td>Individual</td>\n",
       "      <td>Manual</td>\n",
       "      <td>First Owner</td>\n",
       "    </tr>\n",
       "    <tr>\n",
       "      <th>3</th>\n",
       "      <td>Datsun</td>\n",
       "      <td>Datsun RediGO T Option</td>\n",
       "      <td>2017</td>\n",
       "      <td>250000</td>\n",
       "      <td>46000</td>\n",
       "      <td>Petrol</td>\n",
       "      <td>Individual</td>\n",
       "      <td>Manual</td>\n",
       "      <td>First Owner</td>\n",
       "    </tr>\n",
       "    <tr>\n",
       "      <th>4</th>\n",
       "      <td>Honda</td>\n",
       "      <td>Honda Amaze VX i-DTEC</td>\n",
       "      <td>2014</td>\n",
       "      <td>450000</td>\n",
       "      <td>141000</td>\n",
       "      <td>Diesel</td>\n",
       "      <td>Individual</td>\n",
       "      <td>Manual</td>\n",
       "      <td>Second Owner</td>\n",
       "    </tr>\n",
       "    <tr>\n",
       "      <th>...</th>\n",
       "      <td>...</td>\n",
       "      <td>...</td>\n",
       "      <td>...</td>\n",
       "      <td>...</td>\n",
       "      <td>...</td>\n",
       "      <td>...</td>\n",
       "      <td>...</td>\n",
       "      <td>...</td>\n",
       "      <td>...</td>\n",
       "    </tr>\n",
       "    <tr>\n",
       "      <th>4335</th>\n",
       "      <td>Hyundai</td>\n",
       "      <td>Hyundai i20 Magna 1.4 CRDi (Diesel)</td>\n",
       "      <td>2014</td>\n",
       "      <td>409999</td>\n",
       "      <td>80000</td>\n",
       "      <td>Diesel</td>\n",
       "      <td>Individual</td>\n",
       "      <td>Manual</td>\n",
       "      <td>Second Owner</td>\n",
       "    </tr>\n",
       "    <tr>\n",
       "      <th>4336</th>\n",
       "      <td>Hyundai</td>\n",
       "      <td>Hyundai i20 Magna 1.4 CRDi</td>\n",
       "      <td>2014</td>\n",
       "      <td>409999</td>\n",
       "      <td>80000</td>\n",
       "      <td>Diesel</td>\n",
       "      <td>Individual</td>\n",
       "      <td>Manual</td>\n",
       "      <td>Second Owner</td>\n",
       "    </tr>\n",
       "    <tr>\n",
       "      <th>4337</th>\n",
       "      <td>Maruti</td>\n",
       "      <td>Maruti 800 AC BSIII</td>\n",
       "      <td>2009</td>\n",
       "      <td>110000</td>\n",
       "      <td>83000</td>\n",
       "      <td>Petrol</td>\n",
       "      <td>Individual</td>\n",
       "      <td>Manual</td>\n",
       "      <td>Second Owner</td>\n",
       "    </tr>\n",
       "    <tr>\n",
       "      <th>4338</th>\n",
       "      <td>Hyundai</td>\n",
       "      <td>Hyundai Creta 1.6 CRDi SX Option</td>\n",
       "      <td>2016</td>\n",
       "      <td>865000</td>\n",
       "      <td>90000</td>\n",
       "      <td>Diesel</td>\n",
       "      <td>Individual</td>\n",
       "      <td>Manual</td>\n",
       "      <td>First Owner</td>\n",
       "    </tr>\n",
       "    <tr>\n",
       "      <th>4339</th>\n",
       "      <td>Renault</td>\n",
       "      <td>Renault KWID RXT</td>\n",
       "      <td>2016</td>\n",
       "      <td>225000</td>\n",
       "      <td>40000</td>\n",
       "      <td>Petrol</td>\n",
       "      <td>Individual</td>\n",
       "      <td>Manual</td>\n",
       "      <td>First Owner</td>\n",
       "    </tr>\n",
       "  </tbody>\n",
       "</table>\n",
       "<p>4069 rows × 9 columns</p>\n",
       "</div>"
      ],
      "text/plain": [
       "        Brand                                Model  Year  Selling_Price  \\\n",
       "0      Maruti                        Maruti 800 AC  2007          60000   \n",
       "1      Maruti             Maruti Wagon R LXI Minor  2007         135000   \n",
       "2     Hyundai                 Hyundai Verna 1.6 SX  2012         600000   \n",
       "3      Datsun               Datsun RediGO T Option  2017         250000   \n",
       "4       Honda                Honda Amaze VX i-DTEC  2014         450000   \n",
       "...       ...                                  ...   ...            ...   \n",
       "4335  Hyundai  Hyundai i20 Magna 1.4 CRDi (Diesel)  2014         409999   \n",
       "4336  Hyundai           Hyundai i20 Magna 1.4 CRDi  2014         409999   \n",
       "4337   Maruti                  Maruti 800 AC BSIII  2009         110000   \n",
       "4338  Hyundai     Hyundai Creta 1.6 CRDi SX Option  2016         865000   \n",
       "4339  Renault                     Renault KWID RXT  2016         225000   \n",
       "\n",
       "      KM_Driven    Fuel Seller_Type Transmission         Owner  \n",
       "0         70000  Petrol  Individual       Manual   First Owner  \n",
       "1         50000  Petrol  Individual       Manual   First Owner  \n",
       "2        100000  Diesel  Individual       Manual   First Owner  \n",
       "3         46000  Petrol  Individual       Manual   First Owner  \n",
       "4        141000  Diesel  Individual       Manual  Second Owner  \n",
       "...         ...     ...         ...          ...           ...  \n",
       "4335      80000  Diesel  Individual       Manual  Second Owner  \n",
       "4336      80000  Diesel  Individual       Manual  Second Owner  \n",
       "4337      83000  Petrol  Individual       Manual  Second Owner  \n",
       "4338      90000  Diesel  Individual       Manual   First Owner  \n",
       "4339      40000  Petrol  Individual       Manual   First Owner  \n",
       "\n",
       "[4069 rows x 9 columns]"
      ]
     },
     "execution_count": 20,
     "metadata": {},
     "output_type": "execute_result"
    }
   ],
   "source": [
    "df_car[(df_car['Selling_Price']>=lower_bound)&(df_car['Selling_Price']<=upper_bound)]"
   ]
  },
  {
   "cell_type": "code",
   "execution_count": 21,
   "id": "3c289575-adb5-45c6-8dba-23547d50769d",
   "metadata": {},
   "outputs": [],
   "source": [
    "#2.Выберите две количественные переменные и найдите для них 95% доверительные интервалы средних значений. Дайте интерпретацию результата"
   ]
  },
  {
   "cell_type": "code",
   "execution_count": 22,
   "id": "f6f3fb75-56f4-4070-9bf8-1b6300064ecb",
   "metadata": {},
   "outputs": [],
   "source": [
    "# Доверительный интервал для стоимости авто на бензине и дизеле"
   ]
  },
  {
   "cell_type": "code",
   "execution_count": 23,
   "id": "99b8a4c2-76c3-4853-b0f0-171bd39372cf",
   "metadata": {},
   "outputs": [
    {
     "name": "stdout",
     "output_type": "stream",
     "text": [
      "95% доверительный интервал для средней стоимости авто на бензине от 329370.36 до 360309.91 \n",
      "95% доверительный интервал для средней стоимости авто на дизеле от 639539.16 до 698649.34 \n"
     ]
    }
   ],
   "source": [
    "df1 = df_car.loc[df_car['Fuel']=='Petrol', 'Selling_Price']\n",
    "df2 = df_car.loc[df_car['Fuel']=='Diesel', 'Selling_Price']\n",
    "\n",
    "alpha = 0.95\n",
    "\n",
    "mean_1 = df1.mean()\n",
    "var_1 = df1.var()\n",
    "n_1 = df1.count()\n",
    "\n",
    "ci_1 = stats.norm.interval(confidence = alpha, loc = mean_1, scale = np.sqrt(var_1/n_1))\n",
    "print(f'95% доверительный интервал для средней стоимости авто на бензине от {ci_1[0].round(2)} до {ci_1[1].round(2)} ')\n",
    "\n",
    "mean_2 = df2.mean()\n",
    "var_2 = df2.var()\n",
    "n_2 = df2.count()\n",
    "\n",
    "ci_2 = stats.norm.interval(confidence = alpha, loc = mean_2, scale = np.sqrt(var_2/n_2))\n",
    "print(f'95% доверительный интервал для средней стоимости авто на дизеле от {ci_2[0].round(2)} до {ci_2[1].round(2)} ')"
   ]
  },
  {
   "cell_type": "code",
   "execution_count": 24,
   "id": "3f2ede8b-34b9-4584-8bd1-cd95822b2220",
   "metadata": {},
   "outputs": [],
   "source": [
    "# 3.Оцените распределение этих переменных на нормальность с помощью формальных тестов и с помощью альтернативных методов. Сделайте вывод"
   ]
  },
  {
   "cell_type": "code",
   "execution_count": 25,
   "id": "85f81010-95fc-4802-8d10-2c463d1d4b6d",
   "metadata": {},
   "outputs": [
    {
     "name": "stderr",
     "output_type": "stream",
     "text": [
      "D:\\anaconda\\Lib\\site-packages\\seaborn\\_oldcore.py:1119: FutureWarning: use_inf_as_na option is deprecated and will be removed in a future version. Convert inf values to NaN before operating instead.\n",
      "  with pd.option_context('mode.use_inf_as_na', True):\n"
     ]
    },
    {
     "data": {
      "image/png": "[encoded data removed]",
      "text/plain": [
       "<Figure size 640x480 with 1 Axes>"
      ]
     },
     "metadata": {},
     "output_type": "display_data"
    }
   ],
   "source": [
    "fig = plt.figure()\n",
    "plt.title('Распределение стоимости авто на бензине')\n",
    "sns.histplot(df1[df1<2000000], kde = True)\n",
    "plt.show()"
   ]
  },
  {
   "cell_type": "code",
   "execution_count": 26,
   "id": "7217d1e0-3801-4d66-a466-2ea7f962c81f",
   "metadata": {},
   "outputs": [
    {
     "data": {
      "text/plain": [
       "ShapiroResult(statistic=0.8523497581481934, pvalue=1.2646858770377907e-40)"
      ]
     },
     "execution_count": 26,
     "metadata": {},
     "output_type": "execute_result"
    }
   ],
   "source": [
    "# Тест Шапиро-Уилка\n",
    "stats.shapiro(df1[df1<2000000])"
   ]
  },
  {
   "cell_type": "code",
   "execution_count": 27,
   "id": "a9ea39b8-3b0a-463b-9b71-a5986159c3fb",
   "metadata": {},
   "outputs": [],
   "source": [
    "#p-значение очень маленькое, т.е. нулевая гипотеза отвергается и распределение нельзя считать нормальным"
   ]
  },
  {
   "cell_type": "code",
   "execution_count": 28,
   "id": "5d12642d-4979-45cb-a4ce-8f2a65e6b634",
   "metadata": {},
   "outputs": [],
   "source": [
    "#Тест Андерсона-Дарлинга\n",
    "res_test = stats.anderson(df1[df1<2000000], dist='norm')"
   ]
  },
  {
   "cell_type": "code",
   "execution_count": 29,
   "id": "9fe59c96-a36b-4ad8-805c-db8b82ce9ee9",
   "metadata": {},
   "outputs": [
    {
     "data": {
      "text/plain": [
       "array([0.575, 0.655, 0.786, 0.916, 1.09 ])"
      ]
     },
     "execution_count": 29,
     "metadata": {},
     "output_type": "execute_result"
    }
   ],
   "source": [
    "res_test.critical_values"
   ]
  },
  {
   "cell_type": "code",
   "execution_count": 87,
   "id": "a9597ba5-f2b1-4ad7-b2b6-340716c15bb0",
   "metadata": {},
   "outputs": [],
   "source": [
    "def anderson_results_2(res_test, sig_level = 5):\n",
    "    idx = np.argwhere(res_test.significance_level == 5)[0][0]\n",
    "    #idx = np.where(res_test.significance_level == 5)[0][0]\n",
    "    crit_value = res_test.critical_values[idx]\n",
    "    obs_value = res_test.statistic\n",
    "    decision = np.where(obs_value >= crit_value, 'H0 отвергаем, переменная не имеет нормального распределения', 'H0 не отвергаем, переменная имеет нормальное распределение')\n",
    "    print('Тестовая статистика:', obs_value)\n",
    "    print('Критическое значение статистики:', crit_value)\n",
    "    print('Вывод', decision)"
   ]
  },
  {
   "cell_type": "code",
   "execution_count": 88,
   "id": "527aaee3-9fd7-46ee-8cb4-7d749f4676ac",
   "metadata": {},
   "outputs": [],
   "source": [
    "def anderson_results(res_test, sig_level = 5):\n",
    "    crit_value = res_test.critical_values[res_test.significance_level == sig_level][0]\n",
    "    obs_value = res_test.statistic\n",
    "    decision = np.where(obs_value >= crit_value, 'H0 отвергаем, переменная не имеет нормального распределения', 'H0 не отвергаем, переменная имеет нормальное распределение')\n",
    "    print('Тестовая статистика:', obs_value)\n",
    "    print('Критическое значение статистики:', crit_value)\n",
    "    print('Вывод', decision)"
   ]
  },
  {
   "cell_type": "code",
   "execution_count": 89,
   "id": "60dab7ea-8ab0-43af-ab3e-ceac827575f9",
   "metadata": {},
   "outputs": [
    {
     "name": "stdout",
     "output_type": "stream",
     "text": [
      "Тестовая статистика: 63.82892012362572\n",
      "Критическое значение статистики: 0.786\n",
      "Вывод H0 отвергаем, переменная не имеет нормального распределения\n"
     ]
    }
   ],
   "source": [
    "anderson_results(res_test)"
   ]
  },
  {
   "cell_type": "code",
   "execution_count": 90,
   "id": "3f838307-8fc8-4649-a5c2-a99aab6b5827",
   "metadata": {},
   "outputs": [
    {
     "name": "stdout",
     "output_type": "stream",
     "text": [
      "Тестовая статистика: 63.82892012362572\n",
      "Критическое значение статистики: 0.786\n",
      "Вывод H0 отвергаем, переменная не имеет нормального распределения\n"
     ]
    }
   ],
   "source": [
    "anderson_results_2(res_test)"
   ]
  },
  {
   "cell_type": "code",
   "execution_count": 91,
   "id": "9bd4ecc8-9464-42b0-a3e2-603a0ea2ef0a",
   "metadata": {},
   "outputs": [],
   "source": [
    "#Для уровня значимости 0,05 критическое значение составляет 0,786, а наблюдаемое значение 63,82\n",
    "#Наблюдаемая статистика гораздо выше критического значения => отвергаем нулевую гипотезу"
   ]
  },
  {
   "cell_type": "code",
   "execution_count": null,
   "id": "099c077d-2348-4a39-b032-2cd620d3eb12",
   "metadata": {},
   "outputs": [],
   "source": [
    "# Альтернативные методы тестирования нормальности распределения авто на бензине и дизеле\n",
    "df1 = df_car.loc[df_car['Fuel']=='Petrol', 'Selling_Price']\n",
    "df2 = df_car.loc[df_car['Fuel']=='Diesel', 'Selling_Price']"
   ]
  },
  {
   "cell_type": "code",
   "execution_count": 113,
   "id": "ac612897-bbd2-4cb9-9ae5-2f75b0617484",
   "metadata": {},
   "outputs": [
    {
     "name": "stderr",
     "output_type": "stream",
     "text": [
      "D:\\anaconda\\Lib\\site-packages\\seaborn\\_oldcore.py:1119: FutureWarning: use_inf_as_na option is deprecated and will be removed in a future version. Convert inf values to NaN before operating instead.\n",
      "  with pd.option_context('mode.use_inf_as_na', True):\n",
      "D:\\anaconda\\Lib\\site-packages\\seaborn\\_oldcore.py:1119: FutureWarning: use_inf_as_na option is deprecated and will be removed in a future version. Convert inf values to NaN before operating instead.\n",
      "  with pd.option_context('mode.use_inf_as_na', True):\n"
     ]
    },
    {
     "data": {
      "image/png": "[encoded data removed]",
      "text/plain": [
       "<Figure size 1500x500 with 2 Axes>"
      ]
     },
     "metadata": {},
     "output_type": "display_data"
    }
   ],
   "source": [
    "fig, ax  = plt.subplots(1,2, figsize = (15,5))\n",
    "plt.suptitle('Распределение стоимости авто на бензине и дизеле')\n",
    "sns.histplot(df1, kde = True, ax = ax[0])\n",
    "sns.histplot(df2, kde = True, ax = ax[1])\n",
    "plt.show()"
   ]
  },
  {
   "cell_type": "code",
   "execution_count": 114,
   "id": "275415cf-d95d-4243-8ee6-938b51f39249",
   "metadata": {},
   "outputs": [
    {
     "name": "stdout",
     "output_type": "stream",
     "text": [
      "Средняя:  344840.1375412153\n",
      "Медиана:  269000.0\n",
      "Скошенность:  9.253841476061567\n",
      "Эксцесс:  168.87140408761263\n"
     ]
    }
   ],
   "source": [
    "print('Средняя: ', df1.mean())\n",
    "print('Медиана: ', df1.median())\n",
    "print('Скошенность: ', stats.skew(df1))\n",
    "print('Эксцесс: ', stats.kurtosis(df1))"
   ]
  },
  {
   "cell_type": "code",
   "execution_count": 115,
   "id": "7bf69ac0-7308-4100-a4d8-d89d896521bb",
   "metadata": {},
   "outputs": [
    {
     "name": "stdout",
     "output_type": "stream",
     "text": [
      "Средняя:  669094.2522062239\n",
      "Медиана:  500000.0\n",
      "Скошенность:  3.7693725257375985\n",
      "Эксцесс:  19.568835270298823\n"
     ]
    }
   ],
   "source": [
    "print('Средняя: ', df2.mean())\n",
    "print('Медиана: ', df2.median())\n",
    "print('Скошенность: ', stats.skew(df2))\n",
    "print('Эксцесс: ', stats.kurtosis(df2))"
   ]
  },
  {
   "cell_type": "code",
   "execution_count": 118,
   "id": "dfcdf061-ecdf-486b-9e61-88d09330f34b",
   "metadata": {},
   "outputs": [
    {
     "data": {
      "image/png": "[encoded data removed]",
      "text/plain": [
       "<Figure size 1500x500 with 2 Axes>"
      ]
     },
     "metadata": {},
     "output_type": "display_data"
    }
   ],
   "source": [
    "fig, ax  = plt.subplots(1,2, figsize = (15,5))\n",
    "plt.title('QQ-plot для авто на бензине и дизеле')\n",
    "stats.probplot(df1[df1<700000], dist=\"norm\", plot = ax[0])\n",
    "stats.probplot(df2, dist=\"norm\", plot = ax[1])\n",
    "plt.show()"
   ]
  },
  {
   "cell_type": "code",
   "execution_count": null,
   "id": "afc8ddfd-24ce-458f-97df-8acbb8202205",
   "metadata": {},
   "outputs": [],
   "source": [
    "#4. Возьмите две группы наблюдений и протестируйте гипотезу о равенстве математических ожиданий ..."
   ]
  },
  {
   "cell_type": "code",
   "execution_count": 96,
   "id": "94a7a33d-16d6-4781-90bc-ec4d6398dff4",
   "metadata": {},
   "outputs": [],
   "source": [
    "df1 = df_car.loc[df_car['Fuel']=='Petrol', 'Selling_Price']\n",
    "df2 = df_car.loc[df_car['Fuel']=='Diesel', 'Selling_Price']\n",
    "\n",
    "df1_pr = df_car.loc[(df_car['Fuel']=='Petrol')&(df_car['Selling_Price']<100000)&(df_car['KM_Driven']<5000000), 'KM_Driven']\n",
    "df2_pr = df_car.loc[(df_car['Fuel']=='Diesel')&(df_car['Selling_Price']<100000)&(df_car['KM_Driven']<5000000), 'KM_Driven']"
   ]
  },
  {
   "cell_type": "code",
   "execution_count": 98,
   "id": "7417a1c0-8b8d-4440-abc1-6cbe699f3522",
   "metadata": {},
   "outputs": [
    {
     "name": "stdout",
     "output_type": "stream",
     "text": [
      "Средний пробег авто на бензине ценой менее 100000 составляет 75842.44\n"
     ]
    }
   ],
   "source": [
    "print('Средний пробег авто на бензине ценой менее 100000 составляет', df1_pr.mean().round(2))"
   ]
  },
  {
   "cell_type": "code",
   "execution_count": 99,
   "id": "57601787-4221-4f69-9ef2-da853739605f",
   "metadata": {},
   "outputs": [
    {
     "name": "stdout",
     "output_type": "stream",
     "text": [
      "Средний пробег авто на дизеле ценой менее 100000 составляет 116514.29\n"
     ]
    }
   ],
   "source": [
    "print('Средний пробег авто на дизеле ценой менее 100000 составляет', df2_pr.mean().round(2))"
   ]
  },
  {
   "cell_type": "code",
   "execution_count": 110,
   "id": "8fe5dab3-8397-4433-bc3f-525d012a02bd",
   "metadata": {},
   "outputs": [],
   "source": [
    "# Протестируем гипотезу о том, что математическое ожидание пробега авто на бензине составляет 80 000 км"
   ]
  },
  {
   "cell_type": "code",
   "execution_count": 111,
   "id": "ceea6c7d-8aec-4d27-8fd7-b7707c931d24",
   "metadata": {},
   "outputs": [
    {
     "data": {
      "text/plain": [
       "TtestResult(statistic=-1.8169557559985234, pvalue=0.07031231851752354, df=275)"
      ]
     },
     "execution_count": 111,
     "metadata": {},
     "output_type": "execute_result"
    }
   ],
   "source": [
    "stats.ttest_1samp(df1_pr, popmean = 80000, alternative = 'two-sided')"
   ]
  },
  {
   "cell_type": "code",
   "execution_count": 107,
   "id": "5acd2d03-92e3-45b5-a3ac-5c070c4f5d9e",
   "metadata": {},
   "outputs": [],
   "source": [
    "# p-значение более 5%, то есть нулевую гипотезу отвергнуть нельзя\n",
    "#Пробег авто на бензине может составлять 80 000 км"
   ]
  },
  {
   "cell_type": "code",
   "execution_count": 109,
   "id": "627487a1-8945-431f-bfbb-033718a0327f",
   "metadata": {},
   "outputs": [
    {
     "data": {
      "text/plain": [
       "TtestResult(statistic=-5.720857962808016, pvalue=2.503633836647356e-08, df=309.0)"
      ]
     },
     "execution_count": 109,
     "metadata": {},
     "output_type": "execute_result"
    }
   ],
   "source": [
    "#Протестируем гипотезу, что средний пробег авто на дизеле и бензине стоимостью до 100000  совпадают\n",
    "\n",
    "stats.ttest_ind(df1_pr, df2_pr, alternative = 'two-sided')"
   ]
  },
  {
   "cell_type": "code",
   "execution_count": 112,
   "id": "0ab4f86f-80fc-4537-b6ab-dae8980dea43",
   "metadata": {},
   "outputs": [],
   "source": [
    "# p-значение оказалось ниже 5%, то есть нулевая гипотеза о том, что средний пробег на авто на дизеле и бензине равны, отвергается"
   ]
  },
  {
   "cell_type": "code",
   "execution_count": null,
   "id": "d0485466-b2d5-4565-86ac-5a2031d32ef7",
   "metadata": {},
   "outputs": [],
   "source": [
    "# 5.Постройте точечную диаграмму (scatterplot) и оцените корреляцию между переменными. Сделайте вывод"
   ]
  },
  {
   "cell_type": "code",
   "execution_count": 70,
   "id": "9d8173a9-f320-41c2-a55f-fe36f5e5745f",
   "metadata": {},
   "outputs": [
    {
     "data": {
      "image/png": "[encoded data removed]",
      "text/plain": [
       "<Figure size 640x480 with 1 Axes>"
      ]
     },
     "metadata": {},
     "output_type": "display_data"
    }
   ],
   "source": [
    "sns.scatterplot(\n",
    "    data = df_car[(df_car['Year']<=2014)&(df_car['KM_Driven']>0)&(df_car['Model']=='Hyundai EON Era Plus')], \n",
    "    x = 'Selling_Price', \n",
    "    y = 'KM_Driven', \n",
    "    hue = 'Year'\n",
    ")\n",
    "plt.show()"
   ]
  },
  {
   "cell_type": "code",
   "execution_count": 68,
   "id": "8b448ec9-8cdb-4da9-b44d-0d257806b32a",
   "metadata": {},
   "outputs": [
    {
     "data": {
      "image/png": "[encoded data removed]",
      "text/plain": [
       "<Figure size 585.5x500 with 1 Axes>"
      ]
     },
     "metadata": {},
     "output_type": "display_data"
    }
   ],
   "source": [
    "#Для наглядности используем:\n",
    "sns.lmplot(\n",
    "    data = df_car[(df_car['Year']<=2014)&(df_car['Model']=='Hyundai EON Era Plus')], \n",
    "    x = 'KM_Driven', \n",
    "    y = 'Selling_Price', \n",
    "    hue = 'Year'\n",
    ")\n",
    "plt.show()"
   ]
  },
  {
   "cell_type": "code",
   "execution_count": null,
   "id": "ed9da9dd-857d-43e9-9339-ad60b78b4c72",
   "metadata": {},
   "outputs": [],
   "source": [
    "# Корреляция в 2012,13,14 году сильная и близка к -1. \n",
    "# Во все года продаж <=2014, при росте пробега, цена продажи на 'Hyundai EON Era Plus' снижалась"
   ]
  },
  {
   "cell_type": "code",
   "execution_count": 130,
   "id": "ff20bb3a-e2fa-4d7c-b758-cdeae6c8e562",
   "metadata": {},
   "outputs": [
    {
     "data": {
      "text/plain": [
       "PearsonRResult(statistic=-0.1922886305451153, pvalue=2.0262823832188006e-37)"
      ]
     },
     "execution_count": 130,
     "metadata": {},
     "output_type": "execute_result"
    }
   ],
   "source": [
    "# Коэффициенты корреляции Пирсона и Спирмана\n",
    "stats.pearsonr(df_car['KM_Driven'], df_car['Selling_Price'])"
   ]
  },
  {
   "cell_type": "code",
   "execution_count": 131,
   "id": "7d2fd215-7c8b-444e-bcab-748fe3913752",
   "metadata": {},
   "outputs": [
    {
     "data": {
      "text/plain": [
       "SignificanceResult(statistic=-0.3240513938654525, pvalue=1.1646000096357972e-106)"
      ]
     },
     "execution_count": 131,
     "metadata": {},
     "output_type": "execute_result"
    }
   ],
   "source": [
    "stats.spearmanr(df_car['KM_Driven'], df_car['Selling_Price'])"
   ]
  },
  {
   "cell_type": "code",
   "execution_count": 94,
   "id": "f222dae4-0068-4b30-9145-1f2a751b0a28",
   "metadata": {},
   "outputs": [
    {
     "name": "stdout",
     "output_type": "stream",
     "text": [
      "                            OLS Regression Results                            \n",
      "==============================================================================\n",
      "Dep. Variable:                      y   R-squared:                       0.007\n",
      "Model:                            OLS   Adj. R-squared:                 -0.036\n",
      "Method:                 Least Squares   F-statistic:                    0.1562\n",
      "Date:                Sun, 20 Oct 2024   Prob (F-statistic):              0.696\n",
      "Time:                        14:16:28   Log-Likelihood:                -323.88\n",
      "No. Observations:                  25   AIC:                             651.8\n",
      "Df Residuals:                      23   BIC:                             654.2\n",
      "Df Model:                           1                                         \n",
      "Covariance Type:            nonrobust                                         \n",
      "==============================================================================\n",
      "                 coef    std err          t      P>|t|      [0.025      0.975]\n",
      "------------------------------------------------------------------------------\n",
      "const        3.65e+05   4.53e+04      8.057      0.000    2.71e+05    4.59e+05\n",
      "x1             0.1818      0.460      0.395      0.696      -0.770       1.133\n",
      "==============================================================================\n",
      "Omnibus:                        2.491   Durbin-Watson:                   1.709\n",
      "Prob(Omnibus):                  0.288   Jarque-Bera (JB):                1.715\n",
      "Skew:                          -0.437   Prob(JB):                        0.424\n",
      "Kurtosis:                       2.060   Cond. No.                     2.09e+05\n",
      "==============================================================================\n",
      "\n",
      "Notes:\n",
      "[1] Standard Errors assume that the covariance matrix of the errors is correctly specified.\n",
      "[2] The condition number is large, 2.09e+05. This might indicate that there are\n",
      "strong multicollinearity or other numerical problems.\n"
     ]
    }
   ],
   "source": [
    "# 6. Оцените модель линейной регрессии. Сделайте на ее основе прогноз и вывод по результатам\n",
    "data = df_car[(df_car['Year']<=2014)&(df_car['Model']=='Maruti Swift Dzire VDI')]\n",
    "X = np.array(data['KM_Driven'])\n",
    "Y = np.array(data['Selling_Price'])\n",
    "X = sm.add_constant(X)\n",
    "model = sm.OLS(Y, X)\n",
    "results = model.fit()\n",
    "print(results.summary()) # Print the table"
   ]
  },
  {
   "cell_type": "code",
   "execution_count": 96,
   "id": "c1243a6c-337e-4b8a-b00e-8c552087384f",
   "metadata": {},
   "outputs": [],
   "source": [
    "#  0.007 Изменчивость пробега на 0,7% объясняет изменчивость цены\n",
    "# Между X и Y есть ненулевая зависимость\n",
    "# Стоимость авто Maruti Swift Dzire VD напрямую зависит от пробега"
   ]
  },
  {
   "cell_type": "code",
   "execution_count": null,
   "id": "86746eb8-5d58-4e0b-92f5-257d1d644e09",
   "metadata": {},
   "outputs": [],
   "source": []
  }
 ],
 "metadata": {
  "kernelspec": {
   "display_name": "Python 3 (ipykernel)",
   "language": "python",
   "name": "python3"
  },
  "language_info": {
   "codemirror_mode": {
    "name": "ipython",
    "version": 3
   },
   "file_extension": ".py",
   "mimetype": "text/x-python",
   "name": "python",
   "nbconvert_exporter": "python",
   "pygments_lexer": "ipython3",
   "version": "3.11.7"
  }
 },
 "nbformat": 4,
 "nbformat_minor": 5
}
