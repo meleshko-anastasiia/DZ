{
 "cells": [
  {
   "cell_type": "code",
   "execution_count": 1,
   "id": "eef4aa60",
   "metadata": {},
   "outputs": [],
   "source": [
    "import re"
   ]
  },
  {
   "cell_type": "code",
   "execution_count": 2,
   "id": "6aee723c",
   "metadata": {},
   "outputs": [],
   "source": [
    "text = 'Сегодня заключительная лекция курса'"
   ]
  },
  {
   "cell_type": "markdown",
   "id": "16bcce12",
   "metadata": {},
   "source": [
    "### Поиск символов в начале строки"
   ]
  },
  {
   "cell_type": "code",
   "execution_count": 12,
   "id": "0b44b26e",
   "metadata": {},
   "outputs": [
    {
     "data": {
      "text/plain": [
       "'Сегодня заключительная лекция курса'"
      ]
     },
     "execution_count": 12,
     "metadata": {},
     "output_type": "execute_result"
    }
   ],
   "source": [
    "x = re.search('^Сег', text)\n",
    "x.string"
   ]
  },
  {
   "cell_type": "code",
   "execution_count": 16,
   "id": "c5323201",
   "metadata": {},
   "outputs": [
    {
     "data": {
      "text/plain": [
       "'сегодня заключительная лекция курса'"
      ]
     },
     "execution_count": 16,
     "metadata": {},
     "output_type": "execute_result"
    }
   ],
   "source": [
    "text.lower()"
   ]
  },
  {
   "cell_type": "code",
   "execution_count": 19,
   "id": "965a1f36",
   "metadata": {},
   "outputs": [
    {
     "name": "stdout",
     "output_type": "stream",
     "text": [
      "сегодня заключительная лекция курса\n"
     ]
    }
   ],
   "source": [
    "x = re.search('^сег', text.lower())\n",
    "print(x.string)"
   ]
  },
  {
   "cell_type": "markdown",
   "id": "04b72b7a",
   "metadata": {},
   "source": [
    "### Поиск символов в конце строки"
   ]
  },
  {
   "cell_type": "code",
   "execution_count": 20,
   "id": "fa71ea2c",
   "metadata": {},
   "outputs": [
    {
     "data": {
      "text/plain": [
       "'Сегодня заключительная лекция курса'"
      ]
     },
     "execution_count": 20,
     "metadata": {},
     "output_type": "execute_result"
    }
   ],
   "source": [
    "x = re.search('рса$', text)\n",
    "x.string"
   ]
  },
  {
   "cell_type": "markdown",
   "id": "500167a2",
   "metadata": {},
   "source": [
    "### Что будет, если символы находятся не в начале и не в конце?"
   ]
  },
  {
   "cell_type": "code",
   "execution_count": 23,
   "id": "a7ca6e56",
   "metadata": {},
   "outputs": [
    {
     "name": "stdout",
     "output_type": "stream",
     "text": [
      "исключительный\n",
      "ключевой\n",
      "под ключ\n"
     ]
    }
   ],
   "source": [
    "words = ['исключительный', 'ключевой', 'под ключ']\n",
    "for word in words:\n",
    "    if re.search('ключ', word) is not None:\n",
    "        print(re.search('ключ', word).string)"
   ]
  },
  {
   "cell_type": "code",
   "execution_count": 24,
   "id": "96e6353b",
   "metadata": {},
   "outputs": [
    {
     "name": "stdout",
     "output_type": "stream",
     "text": [
      "ключевой\n"
     ]
    }
   ],
   "source": [
    "words = ['исключительный', 'ключевой', 'под ключ']\n",
    "for word in words:\n",
    "    if re.search('^ключ', word) is not None:\n",
    "        print(re.search('ключ', word).string)"
   ]
  },
  {
   "cell_type": "code",
   "execution_count": 25,
   "id": "e6e26b6a",
   "metadata": {},
   "outputs": [
    {
     "name": "stdout",
     "output_type": "stream",
     "text": [
      "под ключ\n"
     ]
    }
   ],
   "source": [
    "words = ['исключительный', 'ключевой', 'под ключ']\n",
    "for word in words:\n",
    "    if re.search('ключ$', word) is not None:\n",
    "        print(re.search('ключ', word).string)"
   ]
  },
  {
   "cell_type": "markdown",
   "id": "e8b5ca93",
   "metadata": {},
   "source": [
    "### Использование точки"
   ]
  },
  {
   "cell_type": "code",
   "execution_count": 27,
   "id": "588db894",
   "metadata": {},
   "outputs": [
    {
     "name": "stdout",
     "output_type": "stream",
     "text": [
      "исключительный\n",
      "склочный\n",
      "кличка\n",
      "кл8ч\n"
     ]
    }
   ],
   "source": [
    "words = ['исключительный', 'склочный', 'кличка', 'кл88ч', 'кл8ч']\n",
    "for word in words:\n",
    "    if re.search('кл.ч', word) is not None:\n",
    "        print(re.search('кл.ч', word).string)"
   ]
  },
  {
   "cell_type": "markdown",
   "id": "0e1f2c90",
   "metadata": {},
   "source": [
    "### Использование нумераторов"
   ]
  },
  {
   "cell_type": "code",
   "execution_count": 29,
   "id": "1a942e01",
   "metadata": {},
   "outputs": [
    {
     "name": "stdout",
     "output_type": "stream",
     "text": [
      "исключительный\n",
      "склочный\n",
      "кличка\n",
      "кл88ч\n",
      "кл8ч\n",
      "клч\n",
      "кл9999999ч\n"
     ]
    }
   ],
   "source": [
    "words = ['исключительный', 'склочный', 'кличка', 'кл88ч', 'кл8ч', 'клч', 'кл9999999ч']\n",
    "for word in words:\n",
    "    if re.search('кл.*ч', word) is not None:\n",
    "        print(re.search('кл.*ч', word).string)"
   ]
  },
  {
   "cell_type": "code",
   "execution_count": 30,
   "id": "12e8a5bd",
   "metadata": {},
   "outputs": [
    {
     "name": "stdout",
     "output_type": "stream",
     "text": [
      "исключительный\n",
      "склочный\n",
      "кличка\n",
      "кл88ч\n",
      "кл8ч\n",
      "кл9999999ч\n"
     ]
    }
   ],
   "source": [
    "words = ['исключительный', 'склочный', 'кличка', 'кл88ч', 'кл8ч', 'клч', 'кл9999999ч']\n",
    "for word in words:\n",
    "    if re.search('кл.+ч', word) is not None:\n",
    "        print(re.search('кл.+ч', word).string)"
   ]
  },
  {
   "cell_type": "code",
   "execution_count": 31,
   "id": "425daaba",
   "metadata": {},
   "outputs": [
    {
     "name": "stdout",
     "output_type": "stream",
     "text": [
      "исключительный\n",
      "склочный\n",
      "кличка\n",
      "кл8ч\n",
      "клч\n"
     ]
    }
   ],
   "source": [
    "words = ['исключительный', 'склочный', 'кличка', 'кл88ч', 'кл8ч', 'клч', 'кл9999999ч']\n",
    "for word in words:\n",
    "    if re.search('кл.?ч', word) is not None:\n",
    "        print(re.search('кл.?ч', word).string)"
   ]
  },
  {
   "cell_type": "code",
   "execution_count": 44,
   "id": "1140ed9e",
   "metadata": {},
   "outputs": [
    {
     "name": "stdout",
     "output_type": "stream",
     "text": [
      "кл88ч\n",
      "клклч\n",
      "клклклч\n"
     ]
    }
   ],
   "source": [
    "words = ['исключительный', 'склочный', 'кличка', 'кл88ч', 'кл8ч', 'клч', 'кл9999999ч', 'ч', 'клклч', 'клклклч']\n",
    "for word in words:\n",
    "    if re.search('кл.{2}ч', word) is not None:\n",
    "        print(re.search('кл.{2}ч', word).string)"
   ]
  },
  {
   "cell_type": "markdown",
   "id": "3b81e127",
   "metadata": {},
   "source": [
    "### Использование |"
   ]
  },
  {
   "cell_type": "code",
   "execution_count": 45,
   "id": "52489411",
   "metadata": {
    "scrolled": true
   },
   "outputs": [
    {
     "name": "stdout",
     "output_type": "stream",
     "text": [
      "исключительный\n",
      "склочный\n"
     ]
    }
   ],
   "source": [
    "words = ['исключительный', 'склочный', 'кличка', 'кл88ч', 'кл8ч', 'клч', 'кл9999999ч']\n",
    "for word in words:\n",
    "    if re.search('кл[о|ю]ч', word) is not None:\n",
    "        print(re.search('кл[о|ю]ч', word).string)"
   ]
  },
  {
   "cell_type": "code",
   "execution_count": 46,
   "id": "3872614e",
   "metadata": {},
   "outputs": [
    {
     "name": "stdout",
     "output_type": "stream",
     "text": [
      "исключительный\n",
      "склочный\n",
      "кличка\n"
     ]
    }
   ],
   "source": [
    "words = ['исключительный', 'склочный', 'кличка', 'кл88ч', 'кл8ч', 'клч', 'кл9999999ч']\n",
    "for word in words:\n",
    "    if re.search('кл[о|ю|и]ч', word) is not None:\n",
    "        print(re.search('кл[о|ю|и]ч', word).string)"
   ]
  },
  {
   "cell_type": "code",
   "execution_count": 54,
   "id": "afee5274",
   "metadata": {},
   "outputs": [
    {
     "name": "stdout",
     "output_type": "stream",
     "text": [
      "исключительный\n",
      "склочный\n",
      "кличка\n"
     ]
    }
   ],
   "source": [
    "words = ['исключительный', 'склочный', 'кличка', 'кл88ч', 'кл8ч', 'клч', 'кл9999999ч']\n",
    "for word in words:\n",
    "    if re.search('кл[о|ю|и]ч', word) is not None:\n",
    "        print(re.search('кл[о|ю|и]ч', word).string)"
   ]
  },
  {
   "cell_type": "markdown",
   "id": "4986555c",
   "metadata": {},
   "source": [
    "### Указание диапазона символов"
   ]
  },
  {
   "cell_type": "code",
   "execution_count": 55,
   "id": "06e34f8b",
   "metadata": {},
   "outputs": [
    {
     "name": "stdout",
     "output_type": "stream",
     "text": [
      "исключительный\n",
      "склочный\n",
      "кличка\n"
     ]
    }
   ],
   "source": [
    "words = ['исключительный', 'склочный', 'кличка', 'кл88ч', 'кл8ч', 'клч', 'кл9999999ч']\n",
    "for word in words:\n",
    "    if re.search('кл[и-ю]ч', word) is not None:\n",
    "        print(re.search('кл[и-ю]ч', word).string)"
   ]
  },
  {
   "cell_type": "code",
   "execution_count": 56,
   "id": "3788c2b6",
   "metadata": {},
   "outputs": [
    {
     "name": "stdout",
     "output_type": "stream",
     "text": [
      "склочный\n",
      "кличка\n"
     ]
    }
   ],
   "source": [
    "words = ['исключительный', 'склочный', 'кличка', 'кл88ч', 'кл8ч', 'клч', 'кл9999999ч']\n",
    "for word in words:\n",
    "    if re.search('кл[и-с]ч', word) is not None:\n",
    "        print(re.search('кл[и-с]ч', word).string)"
   ]
  },
  {
   "cell_type": "markdown",
   "id": "329775af",
   "metadata": {},
   "source": [
    "### Экранирование символов с помощью \\"
   ]
  },
  {
   "cell_type": "markdown",
   "id": "e97dbd7f",
   "metadata": {},
   "source": [
    "Ищем открывающую квадратную скобку"
   ]
  },
  {
   "cell_type": "code",
   "execution_count": 58,
   "id": "5d71c886",
   "metadata": {},
   "outputs": [
    {
     "name": "stdout",
     "output_type": "stream",
     "text": [
      "file[0]\n",
      "file[123.txt\n"
     ]
    }
   ],
   "source": [
    "words = ['file[0]', 'file.txt', 'file[123.txt', 'file145].csv']\n",
    "for word in words:\n",
    "    if re.search('\\[', word) is not None:\n",
    "        print(re.search('\\[', word).string)"
   ]
  },
  {
   "cell_type": "markdown",
   "id": "d8eeab7c",
   "metadata": {},
   "source": [
    "Открывающая и закрывающая квадратные скобки"
   ]
  },
  {
   "cell_type": "code",
   "execution_count": 67,
   "id": "3ebc93d9",
   "metadata": {},
   "outputs": [
    {
     "name": "stdout",
     "output_type": "stream",
     "text": [
      "file[0]\n",
      "file[].txt\n"
     ]
    }
   ],
   "source": [
    "words = ['file[0]', 'file[].txt', 'file[123.txt', 'file[145].csv']\n",
    "for word in words:\n",
    "    if re.search('\\[.?\\]', word) is not None:\n",
    "        print(re.search('\\[.?\\]', word).string)"
   ]
  },
  {
   "cell_type": "markdown",
   "id": "ce873aba",
   "metadata": {},
   "source": [
    "Ищем точку"
   ]
  },
  {
   "cell_type": "code",
   "execution_count": 68,
   "id": "83bab9ab",
   "metadata": {},
   "outputs": [
    {
     "name": "stdout",
     "output_type": "stream",
     "text": [
      "file[].txt\n",
      "file[145].csv\n"
     ]
    }
   ],
   "source": [
    "words = ['file[0]', 'file[].txt', 'file[123txt', 'file[145].csv']\n",
    "for word in words:\n",
    "    if re.search('\\.', word) is not None:\n",
    "        print(re.search('\\.', word).string)"
   ]
  },
  {
   "cell_type": "markdown",
   "id": "4aaf9433",
   "metadata": {},
   "source": [
    "Ищем сочетание .]"
   ]
  },
  {
   "cell_type": "code",
   "execution_count": 69,
   "id": "762dccb9",
   "metadata": {},
   "outputs": [
    {
     "name": "stdout",
     "output_type": "stream",
     "text": [
      "file[].txt\n",
      "file[145].csv\n"
     ]
    }
   ],
   "source": [
    "words = ['file[0]', 'file[].txt', 'file[123txt', 'file[145].csv']\n",
    "for word in words:\n",
    "    if re.search('\\]\\.', word) is not None:\n",
    "        print(re.search('\\]\\.', word).string)"
   ]
  },
  {
   "cell_type": "markdown",
   "id": "dc8ba197",
   "metadata": {},
   "source": [
    "### Ищем цифры"
   ]
  },
  {
   "cell_type": "markdown",
   "id": "74b4108f",
   "metadata": {},
   "source": [
    "Ищем одну цифру между квадратными скобками"
   ]
  },
  {
   "cell_type": "code",
   "execution_count": 71,
   "id": "1e104b6a",
   "metadata": {},
   "outputs": [
    {
     "name": "stdout",
     "output_type": "stream",
     "text": [
      "file[0]\n"
     ]
    }
   ],
   "source": [
    "words = ['file[0]', 'file[].txt', 'file[123txt', 'file[145].csv', 'file[abc].exe']\n",
    "for word in words:\n",
    "    if re.search('\\[\\d\\]', word) is not None:\n",
    "        print(re.search('\\[\\d\\]', word).string)"
   ]
  },
  {
   "cell_type": "markdown",
   "id": "05b1f694",
   "metadata": {},
   "source": [
    "Ищем любое количество цифр между квадратными скобками"
   ]
  },
  {
   "cell_type": "code",
   "execution_count": 72,
   "id": "e0ed74c4",
   "metadata": {},
   "outputs": [
    {
     "name": "stdout",
     "output_type": "stream",
     "text": [
      "file[0]\n",
      "file[145].csv\n"
     ]
    }
   ],
   "source": [
    "words = ['file[0]', 'file[].txt', 'file[123txt', 'file[145].csv', 'file[abc].exe']\n",
    "for word in words:\n",
    "    if re.search('\\[\\d+\\]', word) is not None:\n",
    "        print(re.search('\\[\\d+\\]', word).string)"
   ]
  },
  {
   "cell_type": "markdown",
   "id": "30c5f261",
   "metadata": {},
   "source": [
    "Ищем только три цифры в квадратных скобках"
   ]
  },
  {
   "cell_type": "code",
   "execution_count": 73,
   "id": "66b22749",
   "metadata": {},
   "outputs": [
    {
     "name": "stdout",
     "output_type": "stream",
     "text": [
      "file[145].csv\n"
     ]
    }
   ],
   "source": [
    "words = ['file[0]', 'file[].txt', 'file[123txt', 'file[145].csv', 'file[abc].exe']\n",
    "for word in words:\n",
    "    if re.search('\\[\\d{3}\\]', word) is not None:\n",
    "        print(re.search('\\[\\d{3}\\]', word).string)"
   ]
  },
  {
   "cell_type": "markdown",
   "id": "4aa14d53",
   "metadata": {},
   "source": [
    "Ищем НЕ цифры между квадратными скобками"
   ]
  },
  {
   "cell_type": "code",
   "execution_count": 76,
   "id": "9c93eaf5",
   "metadata": {},
   "outputs": [
    {
     "name": "stdout",
     "output_type": "stream",
     "text": [
      "file[abc].exe\n"
     ]
    }
   ],
   "source": [
    "words = ['file[0]', 'file[].txt', 'file[123txt', 'file[145].csv', 'file[abc].exe']\n",
    "for word in words:\n",
    "    if re.search('\\[\\D+\\]', word) is not None:\n",
    "        print(re.search('\\[\\D+\\]', word).string)"
   ]
  },
  {
   "cell_type": "markdown",
   "id": "d086b197",
   "metadata": {},
   "source": [
    "### Ищем строгое совпадение"
   ]
  },
  {
   "cell_type": "markdown",
   "id": "6fa132f9",
   "metadata": {},
   "source": [
    "Ищем слова, содержащеие кл<>ч"
   ]
  },
  {
   "cell_type": "code",
   "execution_count": 90,
   "id": "927ae919",
   "metadata": {},
   "outputs": [
    {
     "name": "stdout",
     "output_type": "stream",
     "text": [
      "исключительный\n",
      "склочный\n",
      "кличка\n",
      "ключ\n",
      "уклич\n",
      "клочки\n",
      "накличет\n"
     ]
    }
   ],
   "source": [
    "words = ['исключительный', 'склочный', 'кличка', 'ключ', 'уклич', 'клочки', 'накличет']\n",
    "for word in words:\n",
    "    regex = r'кл.ч'\n",
    "    if re.search(regex, word) is not None:\n",
    "        print(re.search(regex, word).string)"
   ]
  },
  {
   "cell_type": "markdown",
   "id": "80516b04",
   "metadata": {},
   "source": [
    "Ищем слова, начинающиеся на кл<>ч"
   ]
  },
  {
   "cell_type": "code",
   "execution_count": 91,
   "id": "50f87171",
   "metadata": {},
   "outputs": [
    {
     "name": "stdout",
     "output_type": "stream",
     "text": [
      "кличка\n",
      "ключ\n",
      "клочки\n"
     ]
    }
   ],
   "source": [
    "words = ['исключительный', 'склочный', 'кличка', 'ключ', 'уклич', 'клочки', 'накличет']\n",
    "for word in words:\n",
    "    regex = r'\\bкл.ч'\n",
    "    if re.search(regex, word) is not None:\n",
    "        print(re.search(regex, word).string)"
   ]
  },
  {
   "cell_type": "markdown",
   "id": "d7f408bf",
   "metadata": {},
   "source": [
    "Ищем слова, заканчивающиеся на кл<>ч"
   ]
  },
  {
   "cell_type": "code",
   "execution_count": 92,
   "id": "2f1ff88f",
   "metadata": {},
   "outputs": [
    {
     "name": "stdout",
     "output_type": "stream",
     "text": [
      "ключ\n",
      "уклич\n"
     ]
    }
   ],
   "source": [
    "words = ['исключительный', 'склочный', 'кличка', 'ключ', 'уклич', 'клочки', 'накличет']\n",
    "for word in words:\n",
    "    regex = r'кл.ч\\b'\n",
    "    if re.search(regex, word) is not None:\n",
    "        print(re.search(regex, word).string)"
   ]
  },
  {
   "cell_type": "markdown",
   "id": "de992ffe",
   "metadata": {},
   "source": [
    "Ищем слова, точно состоящие из кл<>ч"
   ]
  },
  {
   "cell_type": "code",
   "execution_count": 93,
   "id": "849eff2d",
   "metadata": {},
   "outputs": [
    {
     "name": "stdout",
     "output_type": "stream",
     "text": [
      "ключ\n"
     ]
    }
   ],
   "source": [
    "words = ['исключительный', 'склочный', 'кличка', 'ключ', 'уклич', 'клочки', 'накличет']\n",
    "for word in words:\n",
    "    regex = r'\\bкл.ч\\b'\n",
    "    if re.search(regex, word) is not None:\n",
    "        print(re.search(regex, word).string)"
   ]
  },
  {
   "cell_type": "markdown",
   "id": "8b125cce",
   "metadata": {},
   "source": [
    "Ищем слова, которые не начинаются и не заканчиваются на кл<>ч"
   ]
  },
  {
   "cell_type": "code",
   "execution_count": 97,
   "id": "0d2682d5",
   "metadata": {},
   "outputs": [
    {
     "name": "stdout",
     "output_type": "stream",
     "text": [
      "исключительный\n",
      "склочный\n",
      "накличет\n"
     ]
    }
   ],
   "source": [
    "words = ['исключительный', 'склочный', 'кличка', 'ключ', 'клич', 'клочки', 'накличет']\n",
    "for word in words:\n",
    "    regex = r'\\Bкл.ч\\B'\n",
    "    if re.search(regex, word) is not None:\n",
    "        print(re.search(regex, word).string)"
   ]
  },
  {
   "cell_type": "markdown",
   "id": "339e3e27",
   "metadata": {},
   "source": [
    "### Ищем начало строки"
   ]
  },
  {
   "cell_type": "code",
   "execution_count": 99,
   "id": "545dab6a",
   "metadata": {},
   "outputs": [
    {
     "name": "stdout",
     "output_type": "stream",
     "text": [
      "кличка собаки\n",
      "ключ на старт\n",
      "кинул клич\n",
      "разлетелись на клочки\n"
     ]
    }
   ],
   "source": [
    "words = ['исключительный пример', 'склочный товарищ', 'кличка собаки', 'ключ на старт', 'кинул клич', 'разлетелись на клочки', 'накличет беду']\n",
    "for word in words:\n",
    "    regex = r'\\bкл.ч'\n",
    "    if re.search(regex, word) is not None:\n",
    "        print(re.search(regex, word).string)"
   ]
  },
  {
   "cell_type": "code",
   "execution_count": 100,
   "id": "c92a6213",
   "metadata": {},
   "outputs": [
    {
     "name": "stdout",
     "output_type": "stream",
     "text": [
      "кличка собаки\n",
      "ключ на старт\n"
     ]
    }
   ],
   "source": [
    "words = ['исключительный пример', 'склочный товарищ', 'кличка собаки', 'ключ на старт', 'кинул клич', 'разлетелись на клочки', 'накличет беду']\n",
    "for word in words:\n",
    "    regex = r'^\\bкл.ч'\n",
    "    if re.search(regex, word) is not None:\n",
    "        print(re.search(regex, word).string)"
   ]
  },
  {
   "cell_type": "code",
   "execution_count": 101,
   "id": "99142865",
   "metadata": {},
   "outputs": [
    {
     "name": "stdout",
     "output_type": "stream",
     "text": [
      "кличка собаки\n",
      "ключ на старт\n"
     ]
    }
   ],
   "source": [
    "words = ['исключительный пример', 'склочный товарищ', 'кличка собаки', 'ключ на старт', 'кинул клич', 'разлетелись на клочки', 'накличет беду']\n",
    "for word in words:\n",
    "    regex = r'\\A\\bкл.ч'\n",
    "    if re.search(regex, word) is not None:\n",
    "        print(re.search(regex, word).string)"
   ]
  },
  {
   "cell_type": "markdown",
   "id": "e91289aa",
   "metadata": {},
   "source": [
    "### Ищем конец строки"
   ]
  },
  {
   "cell_type": "code",
   "execution_count": 102,
   "id": "9f4f3fae",
   "metadata": {},
   "outputs": [
    {
     "name": "stdout",
     "output_type": "stream",
     "text": [
      "кличка собаки\n",
      "кинул клич\n",
      "разлетелись на клочки\n"
     ]
    }
   ],
   "source": [
    "words = ['исключительный пример', 'склочный товарищ', 'кличка собаки', 'ключ на старт', 'кинул клич', 'разлетелись на клочки', 'накличет беду']\n",
    "for word in words:\n",
    "    regex = r'ки'\n",
    "    if re.search(regex, word) is not None:\n",
    "        print(re.search(regex, word).string)"
   ]
  },
  {
   "cell_type": "code",
   "execution_count": 103,
   "id": "0d4f80d4",
   "metadata": {},
   "outputs": [
    {
     "name": "stdout",
     "output_type": "stream",
     "text": [
      "кинул клич\n"
     ]
    }
   ],
   "source": [
    "words = ['исключительный пример', 'склочный товарищ', 'кличка собаки', 'ключ на старт', 'кинул клич', 'разлетелись на клочки', 'накличет беду']\n",
    "for word in words:\n",
    "    regex = r'\\Aки'\n",
    "    if re.search(regex, word) is not None:\n",
    "        print(re.search(regex, word).string)"
   ]
  },
  {
   "cell_type": "code",
   "execution_count": 105,
   "id": "720f3b15",
   "metadata": {},
   "outputs": [
    {
     "name": "stdout",
     "output_type": "stream",
     "text": [
      "кличка собаки\n",
      "разлетелись на клочки\n"
     ]
    }
   ],
   "source": [
    "words = ['исключительный пример', 'склочный товарищ', 'кличка собаки', 'ключ на старт', 'кинул клич', 'разлетелись на клочки', 'накличет беду']\n",
    "for word in words:\n",
    "    regex = r'ки\\Z'\n",
    "    if re.search(regex, word) is not None:\n",
    "        print(re.search(regex, word).string)"
   ]
  },
  {
   "cell_type": "markdown",
   "id": "9923ae5e",
   "metadata": {},
   "source": [
    "### Ищем пробелы"
   ]
  },
  {
   "cell_type": "code",
   "execution_count": 106,
   "id": "d6111477",
   "metadata": {},
   "outputs": [
    {
     "name": "stdout",
     "output_type": "stream",
     "text": [
      "исключительный пример\n",
      "склочный товарищ\n",
      "ключ на старт\n",
      "кинул клич\n",
      "накличет беду\n"
     ]
    }
   ],
   "source": [
    "words = ['исключительный пример', 'склочный товарищ', 'кличка', 'ключ на старт', 'кинул клич', 'клочки', 'накличет беду']\n",
    "for word in words:\n",
    "    regex = r'\\s'\n",
    "    if re.search(regex, word) is not None:\n",
    "        print(re.search(regex, word).string)"
   ]
  },
  {
   "cell_type": "code",
   "execution_count": 120,
   "id": "1ea96ec7",
   "metadata": {
    "scrolled": true
   },
   "outputs": [
    {
     "name": "stdout",
     "output_type": "stream",
     "text": [
      "кличка\n",
      "клочки\n"
     ]
    }
   ],
   "source": [
    "words = ['исключительный пример', 'склочный товарищ', 'кличка', 'ключ на старт', 'кинул клич', 'клочки', 'накличет беду']\n",
    "for word in words:\n",
    "    regex = r'^\\S+$'\n",
    "    if re.search(regex, word) is not None:\n",
    "        print(re.search(regex, word).string)"
   ]
  },
  {
   "cell_type": "markdown",
   "id": "00751265",
   "metadata": {},
   "source": [
    "Если мы не знаем, сколько пробелов находится между символами"
   ]
  },
  {
   "cell_type": "code",
   "execution_count": 123,
   "id": "554cd528",
   "metadata": {},
   "outputs": [
    {
     "name": "stdout",
     "output_type": "stream",
     "text": [
      "один пробел\n",
      "два  пробела\n",
      "три   пробела\n",
      " пробелвначале\n"
     ]
    }
   ],
   "source": [
    "words = [\"один пробел\", \"два  пробела\", \"три   пробела\", \" пробелвначале\"]\n",
    "for word in words:\n",
    "    regex = r'\\s'\n",
    "    if re.search(regex, word) is not None:\n",
    "        print(re.search(regex, word).string)"
   ]
  },
  {
   "cell_type": "code",
   "execution_count": 124,
   "id": "403197d0",
   "metadata": {},
   "outputs": [
    {
     "name": "stdout",
     "output_type": "stream",
     "text": [
      "один пробел\n"
     ]
    }
   ],
   "source": [
    "words = [\"один пробел\", \"два  пробела\", \"три   пробела\", \" пробелвначале\"]\n",
    "for word in words:\n",
    "    regex = r'^\\w+\\s\\w+$'\n",
    "    if re.search(regex, word) is not None:\n",
    "        print(re.search(regex, word).string)"
   ]
  },
  {
   "cell_type": "code",
   "execution_count": 125,
   "id": "b2e3a062",
   "metadata": {},
   "outputs": [
    {
     "name": "stdout",
     "output_type": "stream",
     "text": [
      "один пробел\n",
      "два  пробела\n",
      "три   пробела\n"
     ]
    }
   ],
   "source": [
    "words = [\"один пробел\", \"два  пробела\", \"три   пробела\", \" пробелвначале\"]\n",
    "for word in words:\n",
    "    regex = r'^\\w+\\s*\\w+$'\n",
    "    if re.search(regex, word) is not None:\n",
    "        print(re.search(regex, word).string)"
   ]
  },
  {
   "cell_type": "markdown",
   "id": "c90b7f65",
   "metadata": {},
   "source": [
    "### Использование множеств"
   ]
  },
  {
   "cell_type": "code",
   "execution_count": 126,
   "id": "bd55dfc9",
   "metadata": {},
   "outputs": [
    {
     "name": "stdout",
     "output_type": "stream",
     "text": [
      "исключительный\n",
      "склочный\n"
     ]
    }
   ],
   "source": [
    "words = ['исключительный', 'склочный', 'кличка', 'кл88ч', 'кл8ч', 'клч', 'кл9999999ч']\n",
    "for word in words:\n",
    "    if re.search('кл[ою]ч', word) is not None:\n",
    "        print(re.search('кл[ою]ч', word).string)"
   ]
  },
  {
   "cell_type": "code",
   "execution_count": 127,
   "id": "21417fcb",
   "metadata": {},
   "outputs": [
    {
     "name": "stdout",
     "output_type": "stream",
     "text": [
      "исключительный\n",
      "склочный\n",
      "кличка\n"
     ]
    }
   ],
   "source": [
    "words = ['исключительный', 'склочный', 'кличка', 'кл88ч', 'кл8ч', 'клч', 'кл9999999ч']\n",
    "for word in words:\n",
    "    if re.search('кл[иою]ч', word) is not None:\n",
    "        print(re.search('кл[иою]ч', word).string)"
   ]
  },
  {
   "cell_type": "code",
   "execution_count": 128,
   "id": "f328dff7",
   "metadata": {},
   "outputs": [
    {
     "name": "stdout",
     "output_type": "stream",
     "text": [
      "кличка\n",
      "кл8ч\n"
     ]
    }
   ],
   "source": [
    "words = ['исключительный', 'склочный', 'кличка', 'кл88ч', 'кл8ч', 'клч', 'кл9999999ч']\n",
    "for word in words:\n",
    "    if re.search('кл[^ою]ч', word) is not None:\n",
    "        print(re.search('кл[^ою]ч', word).string)"
   ]
  },
  {
   "cell_type": "code",
   "execution_count": 129,
   "id": "79bdbc76",
   "metadata": {},
   "outputs": [
    {
     "name": "stdout",
     "output_type": "stream",
     "text": [
      "исключительный\n",
      "склочный\n",
      "кличка\n",
      "кл8ч\n"
     ]
    }
   ],
   "source": [
    "words = ['исключительный', 'склочный', 'кличка', 'кл88ч', 'кл8ч', 'клч', 'кл9999999ч']\n",
    "for word in words:\n",
    "    if re.search('кл\\wч', word) is not None:\n",
    "        print(re.search('кл\\wч', word).string)"
   ]
  },
  {
   "cell_type": "markdown",
   "id": "a49e69e0",
   "metadata": {},
   "source": [
    "### Проверка наличия кириллицы или латиницы"
   ]
  },
  {
   "cell_type": "markdown",
   "id": "1553cdb7",
   "metadata": {},
   "source": [
    "Найдем строки, начинающиеся с буквы (англ или русс) "
   ]
  },
  {
   "cell_type": "code",
   "execution_count": 130,
   "id": "024fb786",
   "metadata": {},
   "outputs": [
    {
     "name": "stdout",
     "output_type": "stream",
     "text": [
      "ФвЫ\n",
      "zXc\n",
      "Qw*\n"
     ]
    }
   ],
   "source": [
    "words = ['ФвЫ', 'zXc', '33R', 'Qw*']\n",
    "for word in words:\n",
    "    regex = '^[A-Za-zА-Яа-я]'\n",
    "    if re.search(regex, word) is not None:\n",
    "        print(re.search(regex, word).string)"
   ]
  },
  {
   "cell_type": "markdown",
   "id": "d335ed9f",
   "metadata": {},
   "source": [
    "Найдем строки, начинающиеся с русской буквы"
   ]
  },
  {
   "cell_type": "code",
   "execution_count": 131,
   "id": "d1a7a82d",
   "metadata": {},
   "outputs": [
    {
     "name": "stdout",
     "output_type": "stream",
     "text": [
      "ФвЫ\n"
     ]
    }
   ],
   "source": [
    "words = ['ФвЫ', 'zXc', '33R', 'Qw*']\n",
    "for word in words:\n",
    "    regex = '^[А-Яа-я]'\n",
    "    if re.search(regex, word) is not None:\n",
    "        print(re.search(regex, word).string)"
   ]
  },
  {
   "cell_type": "markdown",
   "id": "a8b36de3",
   "metadata": {},
   "source": [
    "Найдем строки, начинающиеся с русской буквы или цифры"
   ]
  },
  {
   "cell_type": "code",
   "execution_count": 132,
   "id": "21dc90f3",
   "metadata": {},
   "outputs": [
    {
     "name": "stdout",
     "output_type": "stream",
     "text": [
      "ФвЫ\n",
      "33R\n"
     ]
    }
   ],
   "source": [
    "words = ['ФвЫ', 'zXc', '33R', 'Qw*']\n",
    "for word in words:\n",
    "    regex = '^[А-Яа-я0-9]'\n",
    "    if re.search(regex, word) is not None:\n",
    "        print(re.search(regex, word).string)"
   ]
  },
  {
   "cell_type": "markdown",
   "id": "a092d29c",
   "metadata": {},
   "source": [
    "### Проверка емейлов"
   ]
  },
  {
   "cell_type": "code",
   "execution_count": 137,
   "id": "deeb63f5",
   "metadata": {},
   "outputs": [
    {
     "name": "stdout",
     "output_type": "stream",
     "text": [
      "https://proglib.io/\n",
      "https://google.com/\n",
      "http://proglib.io/?s=google\n"
     ]
    }
   ],
   "source": [
    "emails = ['https://proglib.io/', 'this is not a URL', 'https://google.com/', '123461', 'http://proglib.io/?s=google', 'http://not a valid url', 'abc http://invalid.url/']\n",
    "for word in emails:\n",
    "    regex = '^https?:\\/\\/[\\w\\/?.&-=]+$'\n",
    "    if re.search(regex, word) is not None:\n",
    "        print(re.search(regex, word).string)"
   ]
  },
  {
   "cell_type": "code",
   "execution_count": null,
   "id": "729d4b20",
   "metadata": {},
   "outputs": [],
   "source": []
  }
 ],
 "metadata": {
  "kernelspec": {
   "display_name": "Python 3 (ipykernel)",
   "language": "python",
   "name": "python3"
  },
  "language_info": {
   "codemirror_mode": {
    "name": "ipython",
    "version": 3
   },
   "file_extension": ".py",
   "mimetype": "text/x-python",
   "name": "python",
   "nbconvert_exporter": "python",
   "pygments_lexer": "ipython3",
   "version": "3.11.7"
  }
 },
 "nbformat": 4,
 "nbformat_minor": 5
}
