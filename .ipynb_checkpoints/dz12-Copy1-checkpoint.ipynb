{
 "cells": [
  {
   "cell_type": "code",
   "execution_count": 3,
   "id": "58633fce",
   "metadata": {
    "papermill": {
     "duration": 2.770052,
     "end_time": "2024-08-01T02:25:32.600647",
     "exception": false,
     "start_time": "2024-08-01T02:25:29.830595",
     "status": "completed"
    },
    "tags": []
   },
   "outputs": [],
   "source": [
    "import numpy as np\n",
    "import pandas as pd\n",
    "from scipy import stats\n",
    "import matplotlib.pyplot as plt\n",
    "import seaborn as sns\n",
    "\n",
    "import warnings\n",
    "warnings.filterwarnings('ignore')"
   ]
  },
  {
   "cell_type": "code",
   "execution_count": 4,
   "id": "4f41c72d",
   "metadata": {
    "papermill": {
     "duration": 1.002993,
     "end_time": "2024-08-01T02:25:33.633696",
     "exception": false,
     "start_time": "2024-08-01T02:25:32.630703",
     "status": "completed"
    },
    "tags": []
   },
   "outputs": [
    {
     "data": {
      "text/html": [
       "<div>\n",
       "<style scoped>\n",
       "    .dataframe tbody tr th:only-of-type {\n",
       "        vertical-align: middle;\n",
       "    }\n",
       "\n",
       "    .dataframe tbody tr th {\n",
       "        vertical-align: top;\n",
       "    }\n",
       "\n",
       "    .dataframe thead th {\n",
       "        text-align: right;\n",
       "    }\n",
       "</style>\n",
       "<table border=\"1\" class=\"dataframe\">\n",
       "  <thead>\n",
       "    <tr style=\"text-align: right;\">\n",
       "      <th></th>\n",
       "      <th>Unnamed: 0</th>\n",
       "      <th>user id</th>\n",
       "      <th>test group</th>\n",
       "      <th>converted</th>\n",
       "      <th>total ads</th>\n",
       "      <th>most ads day</th>\n",
       "      <th>most ads hour</th>\n",
       "    </tr>\n",
       "  </thead>\n",
       "  <tbody>\n",
       "    <tr>\n",
       "      <th>0</th>\n",
       "      <td>0</td>\n",
       "      <td>1069124</td>\n",
       "      <td>ad</td>\n",
       "      <td>False</td>\n",
       "      <td>130</td>\n",
       "      <td>Monday</td>\n",
       "      <td>20</td>\n",
       "    </tr>\n",
       "    <tr>\n",
       "      <th>1</th>\n",
       "      <td>1</td>\n",
       "      <td>1119715</td>\n",
       "      <td>ad</td>\n",
       "      <td>False</td>\n",
       "      <td>93</td>\n",
       "      <td>Tuesday</td>\n",
       "      <td>22</td>\n",
       "    </tr>\n",
       "    <tr>\n",
       "      <th>2</th>\n",
       "      <td>2</td>\n",
       "      <td>1144181</td>\n",
       "      <td>ad</td>\n",
       "      <td>False</td>\n",
       "      <td>21</td>\n",
       "      <td>Tuesday</td>\n",
       "      <td>18</td>\n",
       "    </tr>\n",
       "    <tr>\n",
       "      <th>3</th>\n",
       "      <td>3</td>\n",
       "      <td>1435133</td>\n",
       "      <td>ad</td>\n",
       "      <td>False</td>\n",
       "      <td>355</td>\n",
       "      <td>Tuesday</td>\n",
       "      <td>10</td>\n",
       "    </tr>\n",
       "    <tr>\n",
       "      <th>4</th>\n",
       "      <td>4</td>\n",
       "      <td>1015700</td>\n",
       "      <td>ad</td>\n",
       "      <td>False</td>\n",
       "      <td>276</td>\n",
       "      <td>Friday</td>\n",
       "      <td>14</td>\n",
       "    </tr>\n",
       "    <tr>\n",
       "      <th>...</th>\n",
       "      <td>...</td>\n",
       "      <td>...</td>\n",
       "      <td>...</td>\n",
       "      <td>...</td>\n",
       "      <td>...</td>\n",
       "      <td>...</td>\n",
       "      <td>...</td>\n",
       "    </tr>\n",
       "    <tr>\n",
       "      <th>588096</th>\n",
       "      <td>588096</td>\n",
       "      <td>1278437</td>\n",
       "      <td>ad</td>\n",
       "      <td>False</td>\n",
       "      <td>1</td>\n",
       "      <td>Tuesday</td>\n",
       "      <td>23</td>\n",
       "    </tr>\n",
       "    <tr>\n",
       "      <th>588097</th>\n",
       "      <td>588097</td>\n",
       "      <td>1327975</td>\n",
       "      <td>ad</td>\n",
       "      <td>False</td>\n",
       "      <td>1</td>\n",
       "      <td>Tuesday</td>\n",
       "      <td>23</td>\n",
       "    </tr>\n",
       "    <tr>\n",
       "      <th>588098</th>\n",
       "      <td>588098</td>\n",
       "      <td>1038442</td>\n",
       "      <td>ad</td>\n",
       "      <td>False</td>\n",
       "      <td>3</td>\n",
       "      <td>Tuesday</td>\n",
       "      <td>23</td>\n",
       "    </tr>\n",
       "    <tr>\n",
       "      <th>588099</th>\n",
       "      <td>588099</td>\n",
       "      <td>1496395</td>\n",
       "      <td>ad</td>\n",
       "      <td>False</td>\n",
       "      <td>1</td>\n",
       "      <td>Tuesday</td>\n",
       "      <td>23</td>\n",
       "    </tr>\n",
       "    <tr>\n",
       "      <th>588100</th>\n",
       "      <td>588100</td>\n",
       "      <td>1237779</td>\n",
       "      <td>ad</td>\n",
       "      <td>False</td>\n",
       "      <td>1</td>\n",
       "      <td>Tuesday</td>\n",
       "      <td>23</td>\n",
       "    </tr>\n",
       "  </tbody>\n",
       "</table>\n",
       "<p>588101 rows × 7 columns</p>\n",
       "</div>"
      ],
      "text/plain": [
       "        Unnamed: 0  user id test group  converted  total ads most ads day  \\\n",
       "0                0  1069124         ad      False        130       Monday   \n",
       "1                1  1119715         ad      False         93      Tuesday   \n",
       "2                2  1144181         ad      False         21      Tuesday   \n",
       "3                3  1435133         ad      False        355      Tuesday   \n",
       "4                4  1015700         ad      False        276       Friday   \n",
       "...            ...      ...        ...        ...        ...          ...   \n",
       "588096      588096  1278437         ad      False          1      Tuesday   \n",
       "588097      588097  1327975         ad      False          1      Tuesday   \n",
       "588098      588098  1038442         ad      False          3      Tuesday   \n",
       "588099      588099  1496395         ad      False          1      Tuesday   \n",
       "588100      588100  1237779         ad      False          1      Tuesday   \n",
       "\n",
       "        most ads hour  \n",
       "0                  20  \n",
       "1                  22  \n",
       "2                  18  \n",
       "3                  10  \n",
       "4                  14  \n",
       "...               ...  \n",
       "588096             23  \n",
       "588097             23  \n",
       "588098             23  \n",
       "588099             23  \n",
       "588100             23  \n",
       "\n",
       "[588101 rows x 7 columns]"
      ]
     },
     "execution_count": 4,
     "metadata": {},
     "output_type": "execute_result"
    }
   ],
   "source": [
    "df = pd.read_csv(r\"https://raw.githubusercontent.com/meleshko-anastasiia/DZ/refs/heads/main/marketing_AB.csv\")\n",
    "df"
   ]
  },
  {
   "cell_type": "code",
   "execution_count": 33,
   "id": "1297d6b2-8b3b-4351-a46f-293036db4b4f",
   "metadata": {},
   "outputs": [
    {
     "data": {
      "text/plain": [
       "array(['ad', 'psa'], dtype=object)"
      ]
     },
     "execution_count": 33,
     "metadata": {},
     "output_type": "execute_result"
    }
   ],
   "source": [
    "df['test group'].unique()"
   ]
  },
  {
   "cell_type": "code",
   "execution_count": 34,
   "id": "f9c1167e-d41e-4dc3-a832-ca523a69e824",
   "metadata": {},
   "outputs": [
    {
     "data": {
      "text/plain": [
       "array(['Monday', 'Tuesday', 'Friday', 'Saturday', 'Wednesday', 'Sunday',\n",
       "       'Thursday'], dtype=object)"
      ]
     },
     "execution_count": 34,
     "metadata": {},
     "output_type": "execute_result"
    }
   ],
   "source": [
    "df['most ads day'].unique()"
   ]
  },
  {
   "cell_type": "code",
   "execution_count": 35,
   "id": "ab321e95-1c7d-4356-8bf6-278ea4ff31f1",
   "metadata": {},
   "outputs": [
    {
     "data": {
      "text/plain": [
       "array([False,  True])"
      ]
     },
     "execution_count": 35,
     "metadata": {},
     "output_type": "execute_result"
    }
   ],
   "source": [
    "df['converted'].unique()"
   ]
  },
  {
   "cell_type": "code",
   "execution_count": 8,
   "id": "2f570e0c-6de8-41e1-9f7c-06f91c3c7b4b",
   "metadata": {},
   "outputs": [
    {
     "data": {
      "text/plain": [
       "(588101, 7)"
      ]
     },
     "execution_count": 8,
     "metadata": {},
     "output_type": "execute_result"
    }
   ],
   "source": [
    "df.shape"
   ]
  },
  {
   "cell_type": "code",
   "execution_count": 17,
   "id": "278451db-04a8-44ab-8f5c-494e9bbed4eb",
   "metadata": {},
   "outputs": [
    {
     "data": {
      "text/plain": [
       "(23524, 7)"
      ]
     },
     "execution_count": 17,
     "metadata": {},
     "output_type": "execute_result"
    }
   ],
   "source": [
    "control_group = df[df['test group'] == 'psa']\n",
    "control_group.shape"
   ]
  },
  {
   "cell_type": "code",
   "execution_count": 32,
   "id": "9a773125-e033-4e82-8b4b-19630062b621",
   "metadata": {},
   "outputs": [
    {
     "data": {
      "text/plain": [
       "(564577, 7)"
      ]
     },
     "execution_count": 32,
     "metadata": {},
     "output_type": "execute_result"
    }
   ],
   "source": [
    "test_group = df[df['test group'] == 'ad']\n",
    "test_group.shape"
   ]
  },
  {
   "cell_type": "code",
   "execution_count": 49,
   "id": "3c26489b-ffe2-453e-8305-76857d15bdb1",
   "metadata": {},
   "outputs": [
    {
     "data": {
      "text/plain": [
       "(0, 7)"
      ]
     },
     "execution_count": 49,
     "metadata": {},
     "output_type": "execute_result"
    }
   ],
   "source": [
    "df[df['converted'] == 'True'].shape"
   ]
  },
  {
   "cell_type": "code",
   "execution_count": 5,
   "id": "bea10986",
   "metadata": {
    "papermill": {
     "duration": 0.053697,
     "end_time": "2024-08-01T02:25:33.697453",
     "exception": false,
     "start_time": "2024-08-01T02:25:33.643756",
     "status": "completed"
    },
    "tags": []
   },
   "outputs": [
    {
     "data": {
      "text/html": [
       "<div>\n",
       "<style scoped>\n",
       "    .dataframe tbody tr th:only-of-type {\n",
       "        vertical-align: middle;\n",
       "    }\n",
       "\n",
       "    .dataframe tbody tr th {\n",
       "        vertical-align: top;\n",
       "    }\n",
       "\n",
       "    .dataframe thead th {\n",
       "        text-align: right;\n",
       "    }\n",
       "</style>\n",
       "<table border=\"1\" class=\"dataframe\">\n",
       "  <thead>\n",
       "    <tr style=\"text-align: right;\">\n",
       "      <th></th>\n",
       "      <th>test group</th>\n",
       "      <th>converted</th>\n",
       "      <th>total ads</th>\n",
       "      <th>most ads day</th>\n",
       "      <th>most ads hour</th>\n",
       "    </tr>\n",
       "  </thead>\n",
       "  <tbody>\n",
       "    <tr>\n",
       "      <th>0</th>\n",
       "      <td>ad</td>\n",
       "      <td>False</td>\n",
       "      <td>130</td>\n",
       "      <td>Monday</td>\n",
       "      <td>20</td>\n",
       "    </tr>\n",
       "    <tr>\n",
       "      <th>1</th>\n",
       "      <td>ad</td>\n",
       "      <td>False</td>\n",
       "      <td>93</td>\n",
       "      <td>Tuesday</td>\n",
       "      <td>22</td>\n",
       "    </tr>\n",
       "    <tr>\n",
       "      <th>2</th>\n",
       "      <td>ad</td>\n",
       "      <td>False</td>\n",
       "      <td>21</td>\n",
       "      <td>Tuesday</td>\n",
       "      <td>18</td>\n",
       "    </tr>\n",
       "    <tr>\n",
       "      <th>3</th>\n",
       "      <td>ad</td>\n",
       "      <td>False</td>\n",
       "      <td>355</td>\n",
       "      <td>Tuesday</td>\n",
       "      <td>10</td>\n",
       "    </tr>\n",
       "    <tr>\n",
       "      <th>4</th>\n",
       "      <td>ad</td>\n",
       "      <td>False</td>\n",
       "      <td>276</td>\n",
       "      <td>Friday</td>\n",
       "      <td>14</td>\n",
       "    </tr>\n",
       "    <tr>\n",
       "      <th>...</th>\n",
       "      <td>...</td>\n",
       "      <td>...</td>\n",
       "      <td>...</td>\n",
       "      <td>...</td>\n",
       "      <td>...</td>\n",
       "    </tr>\n",
       "    <tr>\n",
       "      <th>588096</th>\n",
       "      <td>ad</td>\n",
       "      <td>False</td>\n",
       "      <td>1</td>\n",
       "      <td>Tuesday</td>\n",
       "      <td>23</td>\n",
       "    </tr>\n",
       "    <tr>\n",
       "      <th>588097</th>\n",
       "      <td>ad</td>\n",
       "      <td>False</td>\n",
       "      <td>1</td>\n",
       "      <td>Tuesday</td>\n",
       "      <td>23</td>\n",
       "    </tr>\n",
       "    <tr>\n",
       "      <th>588098</th>\n",
       "      <td>ad</td>\n",
       "      <td>False</td>\n",
       "      <td>3</td>\n",
       "      <td>Tuesday</td>\n",
       "      <td>23</td>\n",
       "    </tr>\n",
       "    <tr>\n",
       "      <th>588099</th>\n",
       "      <td>ad</td>\n",
       "      <td>False</td>\n",
       "      <td>1</td>\n",
       "      <td>Tuesday</td>\n",
       "      <td>23</td>\n",
       "    </tr>\n",
       "    <tr>\n",
       "      <th>588100</th>\n",
       "      <td>ad</td>\n",
       "      <td>False</td>\n",
       "      <td>1</td>\n",
       "      <td>Tuesday</td>\n",
       "      <td>23</td>\n",
       "    </tr>\n",
       "  </tbody>\n",
       "</table>\n",
       "<p>588101 rows × 5 columns</p>\n",
       "</div>"
      ],
      "text/plain": [
       "       test group  converted  total ads most ads day  most ads hour\n",
       "0              ad      False        130       Monday             20\n",
       "1              ad      False         93      Tuesday             22\n",
       "2              ad      False         21      Tuesday             18\n",
       "3              ad      False        355      Tuesday             10\n",
       "4              ad      False        276       Friday             14\n",
       "...           ...        ...        ...          ...            ...\n",
       "588096         ad      False          1      Tuesday             23\n",
       "588097         ad      False          1      Tuesday             23\n",
       "588098         ad      False          3      Tuesday             23\n",
       "588099         ad      False          1      Tuesday             23\n",
       "588100         ad      False          1      Tuesday             23\n",
       "\n",
       "[588101 rows x 5 columns]"
      ]
     },
     "execution_count": 5,
     "metadata": {},
     "output_type": "execute_result"
    }
   ],
   "source": [
    "df.drop(columns = ['Unnamed: 0', 'user id'], inplace = True)\n",
    "df"
   ]
  },
  {
   "cell_type": "code",
   "execution_count": 6,
   "id": "b29b7638",
   "metadata": {
    "papermill": {
     "duration": 0.03222,
     "end_time": "2024-08-01T02:25:33.764451",
     "exception": false,
     "start_time": "2024-08-01T02:25:33.732231",
     "status": "completed"
    },
    "tags": []
   },
   "outputs": [
    {
     "data": {
      "text/html": [
       "<div>\n",
       "<style scoped>\n",
       "    .dataframe tbody tr th:only-of-type {\n",
       "        vertical-align: middle;\n",
       "    }\n",
       "\n",
       "    .dataframe tbody tr th {\n",
       "        vertical-align: top;\n",
       "    }\n",
       "\n",
       "    .dataframe thead th {\n",
       "        text-align: right;\n",
       "    }\n",
       "</style>\n",
       "<table border=\"1\" class=\"dataframe\">\n",
       "  <thead>\n",
       "    <tr style=\"text-align: right;\">\n",
       "      <th></th>\n",
       "      <th>test group</th>\n",
       "      <th>converted</th>\n",
       "      <th>total ads</th>\n",
       "      <th>most ads day</th>\n",
       "      <th>most ads hour</th>\n",
       "    </tr>\n",
       "  </thead>\n",
       "  <tbody>\n",
       "    <tr>\n",
       "      <th>0</th>\n",
       "      <td>ad</td>\n",
       "      <td>False</td>\n",
       "      <td>130</td>\n",
       "      <td>Monday</td>\n",
       "      <td>20</td>\n",
       "    </tr>\n",
       "    <tr>\n",
       "      <th>1</th>\n",
       "      <td>ad</td>\n",
       "      <td>False</td>\n",
       "      <td>93</td>\n",
       "      <td>Tuesday</td>\n",
       "      <td>22</td>\n",
       "    </tr>\n",
       "    <tr>\n",
       "      <th>2</th>\n",
       "      <td>ad</td>\n",
       "      <td>False</td>\n",
       "      <td>21</td>\n",
       "      <td>Tuesday</td>\n",
       "      <td>18</td>\n",
       "    </tr>\n",
       "    <tr>\n",
       "      <th>3</th>\n",
       "      <td>ad</td>\n",
       "      <td>False</td>\n",
       "      <td>355</td>\n",
       "      <td>Tuesday</td>\n",
       "      <td>10</td>\n",
       "    </tr>\n",
       "    <tr>\n",
       "      <th>4</th>\n",
       "      <td>ad</td>\n",
       "      <td>False</td>\n",
       "      <td>276</td>\n",
       "      <td>Friday</td>\n",
       "      <td>14</td>\n",
       "    </tr>\n",
       "    <tr>\n",
       "      <th>5</th>\n",
       "      <td>ad</td>\n",
       "      <td>False</td>\n",
       "      <td>734</td>\n",
       "      <td>Saturday</td>\n",
       "      <td>10</td>\n",
       "    </tr>\n",
       "    <tr>\n",
       "      <th>6</th>\n",
       "      <td>ad</td>\n",
       "      <td>False</td>\n",
       "      <td>264</td>\n",
       "      <td>Wednesday</td>\n",
       "      <td>13</td>\n",
       "    </tr>\n",
       "    <tr>\n",
       "      <th>7</th>\n",
       "      <td>ad</td>\n",
       "      <td>False</td>\n",
       "      <td>17</td>\n",
       "      <td>Sunday</td>\n",
       "      <td>18</td>\n",
       "    </tr>\n",
       "    <tr>\n",
       "      <th>8</th>\n",
       "      <td>ad</td>\n",
       "      <td>False</td>\n",
       "      <td>21</td>\n",
       "      <td>Tuesday</td>\n",
       "      <td>19</td>\n",
       "    </tr>\n",
       "    <tr>\n",
       "      <th>9</th>\n",
       "      <td>ad</td>\n",
       "      <td>False</td>\n",
       "      <td>142</td>\n",
       "      <td>Monday</td>\n",
       "      <td>14</td>\n",
       "    </tr>\n",
       "  </tbody>\n",
       "</table>\n",
       "</div>"
      ],
      "text/plain": [
       "  test group  converted  total ads most ads day  most ads hour\n",
       "0         ad      False        130       Monday             20\n",
       "1         ad      False         93      Tuesday             22\n",
       "2         ad      False         21      Tuesday             18\n",
       "3         ad      False        355      Tuesday             10\n",
       "4         ad      False        276       Friday             14\n",
       "5         ad      False        734     Saturday             10\n",
       "6         ad      False        264    Wednesday             13\n",
       "7         ad      False         17       Sunday             18\n",
       "8         ad      False         21      Tuesday             19\n",
       "9         ad      False        142       Monday             14"
      ]
     },
     "execution_count": 6,
     "metadata": {},
     "output_type": "execute_result"
    }
   ],
   "source": [
    "df.head(10)"
   ]
  },
  {
   "cell_type": "code",
   "execution_count": null,
   "id": "729686b5-f06a-4b6d-8842-f595f67904df",
   "metadata": {},
   "outputs": [],
   "source": [
    "# Статистические тесты"
   ]
  },
  {
   "cell_type": "code",
   "execution_count": 84,
   "id": "07ae6548",
   "metadata": {
    "papermill": {
     "duration": 0.357523,
     "end_time": "2024-08-01T02:25:35.042669",
     "exception": false,
     "start_time": "2024-08-01T02:25:34.685146",
     "status": "completed"
    },
    "tags": []
   },
   "outputs": [
    {
     "name": "stdout",
     "output_type": "stream",
     "text": [
      "Test Group Analysis - T-statistic: 7.37040597428566, P-value: 1.7033052627831264e-13\n"
     ]
    }
   ],
   "source": [
    "t_stat, p_val = stats.ttest_ind(test_group['converted'], control_group['converted'])\n",
    "print(f\"Test Group Analysis - T-statistic: {t_stat}, P-value: {p_val}\")"
   ]
  },
  {
   "cell_type": "code",
   "execution_count": 81,
   "id": "f14abeb8",
   "metadata": {
    "papermill": {
     "duration": 0.025432,
     "end_time": "2024-08-01T02:25:35.081017",
     "exception": false,
     "start_time": "2024-08-01T02:25:35.055585",
     "status": "completed"
    },
    "tags": []
   },
   "outputs": [],
   "source": [
    "#Отвергнем нулевую гипотезу: существует значительная разница в показателях конверсии между группами 'ad' и 'psa'"
   ]
  },
  {
   "cell_type": "code",
   "execution_count": 85,
   "id": "b8247d2e",
   "metadata": {
    "papermill": {
     "duration": 0.907557,
     "end_time": "2024-08-01T02:25:36.002782",
     "exception": false,
     "start_time": "2024-08-01T02:25:35.095225",
     "status": "completed"
    },
    "tags": []
   },
   "outputs": [
    {
     "name": "stdout",
     "output_type": "stream",
     "text": [
      "Most Ads Day Analysis - F-statistic: 68.38818386898062, P-value: 1.8032007655359558e-85\n"
     ]
    }
   ],
   "source": [
    "# Большинство за день\n",
    "result_day = stats.f_oneway(\n",
    "    df[df['most ads day'] == 'Monday']['converted'],\n",
    "    df[df['most ads day'] == 'Tuesday']['converted'],\n",
    "    df[df['most ads day'] == 'Wednesday']['converted'],\n",
    "    df[df['most ads day'] == 'Thursday']['converted'],\n",
    "    df[df['most ads day'] == 'Friday']['converted'],\n",
    "    df[df['most ads day'] == 'Saturday']['converted'],\n",
    "    df[df['most ads day'] == 'Sunday']['converted']\n",
    ")\n",
    "print(f\"Most Ads Day Analysis - F-statistic: {result_day.statistic}, P-value: {result_day.pvalue}\")"
   ]
  },
  {
   "cell_type": "code",
   "execution_count": 80,
   "id": "305f78f4",
   "metadata": {
    "papermill": {
     "duration": 0.039206,
     "end_time": "2024-08-01T02:25:36.061853",
     "exception": false,
     "start_time": "2024-08-01T02:25:36.022647",
     "status": "completed"
    },
    "tags": []
   },
   "outputs": [],
   "source": [
    "#Отвергнем нулевую гипотезу: день, в который было просмотрено больше всего объявлений, существенно влияет на коэффициент конверсии."
   ]
  },
  {
   "cell_type": "code",
   "execution_count": 86,
   "id": "d6061d8d",
   "metadata": {
    "papermill": {
     "duration": 0.242655,
     "end_time": "2024-08-01T02:25:36.321351",
     "exception": false,
     "start_time": "2024-08-01T02:25:36.078696",
     "status": "completed"
    },
    "tags": []
   },
   "outputs": [
    {
     "name": "stdout",
     "output_type": "stream",
     "text": [
      "Most Ads Hour Analysis - F-statistic: 18.742037312974496, P-value: 7.482025334833055e-77\n"
     ]
    }
   ],
   "source": [
    "# Анализ большинства рекламных объявлений за час\n",
    "result_hour = stats.f_oneway(\n",
    "    df[df['most ads hour'] == 0]['converted'],\n",
    "    df[df['most ads hour'] == 1]['converted'],\n",
    "    df[df['most ads hour'] == 2]['converted'],\n",
    "    df[df['most ads hour'] == 3]['converted'],\n",
    "    df[df['most ads hour'] == 4]['converted'],\n",
    "    df[df['most ads hour'] == 5]['converted'],\n",
    "    df[df['most ads hour'] == 6]['converted'],\n",
    "    df[df['most ads hour'] == 7]['converted'],\n",
    "    df[df['most ads hour'] == 8]['converted'],\n",
    "    df[df['most ads hour'] == 9]['converted'],\n",
    "    df[df['most ads hour'] == 10]['converted'],\n",
    "    df[df['most ads hour'] == 11]['converted'],\n",
    "    df[df['most ads hour'] == 12]['converted'],\n",
    "    df[df['most ads hour'] == 13]['converted'],\n",
    "    df[df['most ads hour'] == 14]['converted'],\n",
    "    df[df['most ads hour'] == 15]['converted'],\n",
    "    df[df['most ads hour'] == 16]['converted'],\n",
    "    df[df['most ads hour'] == 17]['converted'],\n",
    "    df[df['most ads hour'] == 18]['converted'],\n",
    "    df[df['most ads hour'] == 19]['converted'],\n",
    "    df[df['most ads hour'] == 20]['converted'],\n",
    "    df[df['most ads hour'] == 21]['converted'],\n",
    "    df[df['most ads hour'] == 22]['converted'],\n",
    "    df[df['most ads hour'] == 23]['converted']\n",
    ")\n",
    "print(f\"Most Ads Hour Analysis - F-statistic: {result_hour.statistic}, P-value: {result_hour.pvalue}\")"
   ]
  },
  {
   "cell_type": "code",
   "execution_count": 79,
   "id": "0ba0381c",
   "metadata": {
    "papermill": {
     "duration": 0.026324,
     "end_time": "2024-08-01T02:25:36.361312",
     "exception": false,
     "start_time": "2024-08-01T02:25:36.334988",
     "status": "completed"
    },
    "tags": []
   },
   "outputs": [],
   "source": [
    "# Анализ часов показа большинства объявлений опровергает нулевую гипотезу: час, в течение которого было просмотрено больше всего объявлений, существенно влияет на коэффициент конверсии."
   ]
  },
  {
   "cell_type": "code",
   "execution_count": 87,
   "id": "45cfe0fb",
   "metadata": {
    "papermill": {
     "duration": 0.179416,
     "end_time": "2024-08-01T02:25:36.553717",
     "exception": false,
     "start_time": "2024-08-01T02:25:36.374301",
     "status": "completed"
    },
    "tags": []
   },
   "outputs": [
    {
     "name": "stdout",
     "output_type": "stream",
     "text": [
      "Total Ads (Binned) Analysis - F-statistic: 1245.6689124986833, P-value: 0.0\n"
     ]
    }
   ],
   "source": [
    "# Полный анализ рекламы\n",
    "df_subset = df[df['total ads'] < 50].copy()\n",
    "\n",
    "\n",
    "#создать ячейки для total_ads\n",
    "# Создать ячейки для total_ads, используя .loc\n",
    "df_subset.loc[:, 'total_ads_bin'] = pd.cut(df_subset['total ads'], bins=[-1, 1, 5, 10, 20, 30, 40, 50], labels=['0-1', '2-5', '6-10', '11-20', '21-30', '31-40', '41-50'])\n",
    "\n",
    "# для сгруппированных данных\n",
    "result_bin = stats.f_oneway(\n",
    "    df_subset[df_subset['total_ads_bin'] == '0-1']['converted'],\n",
    "    df_subset[df_subset['total_ads_bin'] == '2-5']['converted'],\n",
    "    df_subset[df_subset['total_ads_bin'] == '6-10']['converted'],\n",
    "    df_subset[df_subset['total_ads_bin'] == '11-20']['converted'],\n",
    "    df_subset[df_subset['total_ads_bin'] == '21-30']['converted'],\n",
    "    df_subset[df_subset['total_ads_bin'] == '31-40']['converted'],\n",
    "    df_subset[df_subset['total_ads_bin'] == '41-50']['converted']\n",
    ")\n",
    "\n",
    "print(f\"Total Ads (Binned) Analysis - F-statistic: {result_bin.statistic}, P-value: {result_bin.pvalue}\")"
   ]
  },
  {
   "cell_type": "code",
   "execution_count": 78,
   "id": "7a398fb4",
   "metadata": {
    "papermill": {
     "duration": 0.032159,
     "end_time": "2024-08-01T02:25:36.601006",
     "exception": false,
     "start_time": "2024-08-01T02:25:36.568847",
     "status": "completed"
    },
    "tags": []
   },
   "outputs": [],
   "source": [
    "# Отвергнем нулевую гипотезу: существует существенная разница в показателях конверсии между различными уровнями общего количества просмотренных объявлений (в бинах)."
   ]
  },
  {
   "cell_type": "code",
   "execution_count": 68,
   "id": "a304e39c-a810-4688-98ea-7f87733d38c0",
   "metadata": {},
   "outputs": [],
   "source": [
    "# Вывод: AD успешнее чем PSA."
   ]
  },
  {
   "cell_type": "code",
   "execution_count": 89,
   "id": "438e02ab-a9ef-4a05-a82b-c4c80890b1c8",
   "metadata": {},
   "outputs": [
    {
     "data": {
      "image/png": "[encoded data removed]",
      "text/plain": [
       "<Figure size 2000x400 with 2 Axes>"
      ]
     },
     "metadata": {},
     "output_type": "display_data"
    }
   ],
   "source": [
    "fig, ax = plt.subplots(1,2, figsize = (20,4))\n",
    "plt.suptitle('Коэффициент по количеству просмотров рекламы за день')\n",
    "sns.histplot(control_group['most ads day'], ax = ax[0])\n",
    "sns.histplot(test_group['most ads day'], ax = ax[1])\n",
    "ax[0].set_title('Группа psa')\n",
    "ax[1].set_title('Группа ad')\n",
    "plt.show()"
   ]
  },
  {
   "cell_type": "code",
   "execution_count": 90,
   "id": "79ae4946-52e3-4c0d-8577-dc37c206f8d6",
   "metadata": {},
   "outputs": [],
   "source": [
    "# Вывод:\n",
    "#Коэфициент psa больше в четверг и пятницу, а в субботу и вторник реклама менее эффективна\n",
    "#Коэфициент ad больше в пятницу, а во вторник реклама менее эффективна"
   ]
  },
  {
   "cell_type": "code",
   "execution_count": 76,
   "id": "82b84923-ef4b-44bd-8c09-b0f60e548efa",
   "metadata": {},
   "outputs": [
    {
     "data": {
      "image/png": "[encoded data removed]",
      "text/plain": [
       "<Figure size 2000x400 with 2 Axes>"
      ]
     },
     "metadata": {},
     "output_type": "display_data"
    }
   ],
   "source": [
    "fig, ax = plt.subplots(1,2, figsize = (20,4))\n",
    "plt.suptitle('Коэффициент по количеству просмотров рекламы по часам')\n",
    "sns.histplot(control_group['most ads hour'], ax = ax[0])\n",
    "sns.histplot(test_group['most ads hour'], ax = ax[1])\n",
    "ax[0].set_title('Группа psa')\n",
    "ax[1].set_title('Группа ad')\n",
    "plt.show()"
   ]
  },
  {
   "cell_type": "code",
   "execution_count": 91,
   "id": "dc89446d-de28-4eca-b82f-01b85d94704e",
   "metadata": {},
   "outputs": [],
   "source": [
    "# Вывод: :Коэфициент больше всего в 13, а в 5 реклама менее эффективна"
   ]
  },
  {
   "cell_type": "code",
   "execution_count": null,
   "id": "ffe801e9-56a1-468e-9206-5bae5ed28181",
   "metadata": {},
   "outputs": [],
   "source": []
  }
 ],
 "metadata": {
  "kaggle": {
   "accelerator": "none",
   "dataSources": [
    {
     "datasetId": 1660669,
     "sourceId": 2724653,
     "sourceType": "datasetVersion"
    }
   ],
   "dockerImageVersionId": 30746,
   "isGpuEnabled": false,
   "isInternetEnabled": true,
   "language": "python",
   "sourceType": "notebook"
  },
  "kernelspec": {
   "display_name": "Python 3 (ipykernel)",
   "language": "python",
   "name": "python3"
  },
  "language_info": {
   "codemirror_mode": {
    "name": "ipython",
    "version": 3
   },
   "file_extension": ".py",
   "mimetype": "text/x-python",
   "name": "python",
   "nbconvert_exporter": "python",
   "pygments_lexer": "ipython3",
   "version": "3.11.7"
  },
  "papermill": {
   "default_parameters": {},
   "duration": 16.359676,
   "end_time": "2024-08-01T02:25:42.576097",
   "environment_variables": {},
   "exception": null,
   "input_path": "__notebook__.ipynb",
   "output_path": "__notebook__.ipynb",
   "parameters": {},
   "start_time": "2024-08-01T02:25:26.216421",
   "version": "2.5.0"
  }
 },
 "nbformat": 4,
 "nbformat_minor": 5
}
