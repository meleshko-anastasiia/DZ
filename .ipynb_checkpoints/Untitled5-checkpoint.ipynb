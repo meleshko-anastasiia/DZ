{
 "cells": [
  {
   "cell_type": "code",
   "execution_count": 1,
   "id": "f5f1b10e-7167-4974-a87e-8f2134e90a70",
   "metadata": {},
   "outputs": [],
   "source": [
    "import bs4\n",
    "import requests\n",
    "import string\n",
    "import pandas as pd\n",
    "import numpy as np\n",
    "import matplotlib.pyplot as plt\n",
    "import warnings\n",
    "warnings.filterwarnings('ignore')\n",
    "import nltk\n",
    "\n",
    "url = \"http://az.lib.ru/g/gogolx_n_w/text_0090.shtml\"\n",
    "response = requests.get(url)\n",
    "soup = bs4.BeautifulSoup(response.text,'lxml')\n",
    "text = soup.body.get_text(' ', strip=True)"
   ]
  },
  {
   "cell_type": "code",
   "execution_count": null,
   "id": "324c2ef3-0b89-41bb-b415-24f199b8503d",
   "metadata": {},
   "outputs": [],
   "source": []
  },
  {
   "cell_type": "code",
   "execution_count": null,
   "id": "9ac9383b-4b31-4724-9e6a-b75b2f826aa0",
   "metadata": {},
   "outputs": [],
   "source": []
  },
  {
   "cell_type": "code",
   "execution_count": 2,
   "id": "3536362b-baa5-40ea-b9e8-388260b6216b",
   "metadata": {},
   "outputs": [
    {
     "name": "stdout",
     "output_type": "stream",
     "text": [
      "Гоголь Николай Васильевич Невский проспект Lib.ru/Классика: [ Регистрация ] [ Найти ] \n",
      "[ Рейтинги ]\n",
      "[ Обсуждения ]\n",
      "[ Новинки ]\n",
      "[ Обзоры ]\n",
      "[ Помощь ] Комментарии: 15, последний от 11/07/2015. Гоголь Николай Васильевич ( yes@lib.ru ) Год: 1835 Обновлено: 16/11/2013. 73k. Статистика. Глава : Проза\n"
     ]
    }
   ],
   "source": [
    "print(text[:300])"
   ]
  },
  {
   "cell_type": "code",
   "execution_count": 3,
   "id": "67248ec7-7c31-4d42-957a-2db54449800c",
   "metadata": {},
   "outputs": [
    {
     "name": "stdout",
     "output_type": "stream",
     "text": [
      "  помощь  комментарии  последний от  гоголь николай васильевич  yeslibru  год  обновлено  k статистика глава  проза петербургские повести скачать fb оценка  ваша оценка шеде\n"
     ]
    }
   ],
   "source": [
    "# переводим символы в нижний регистр, чтобы всё было одинаково\n",
    "text = text.lower()\n",
    "# подключаем встроенный модуль работы со строками\n",
    "import string\n",
    "# добавляем к стандартным знакам пунктуации кавычки и многоточие\n",
    "spec_chars = string.punctuation + '«»\\t—…’'\n",
    "# очищаем текст от знаков препинания\n",
    "text = \"\".join([ch for ch in text if ch not in spec_chars])\n",
    "# подключаем регулярные выражения\n",
    "import re\n",
    "# меняем переносы строк на пробелы\n",
    "text = re.sub('\\n', ' ', text)\n",
    "# убираем из текста цифры\n",
    "text = \"\".join([ch for ch in text if ch not in string.digits])\n",
    "# смотрим на результат\n",
    "print(text[:300])"
   ]
  },
  {
   "cell_type": "code",
   "execution_count": null,
   "id": "67608b80-77c8-43af-9e92-7db9ccffba15",
   "metadata": {},
   "outputs": [],
   "source": [
    "#Определить 10 самых часто встречающихся слов"
   ]
  },
  {
   "cell_type": "code",
   "execution_count": null,
   "id": "c3c265b5-38c9-407d-b867-3f7fd68dca66",
   "metadata": {},
   "outputs": [],
   "source": [
    "text = text.lower()"
   ]
  },
  {
   "cell_type": "code",
   "execution_count": null,
   "id": "91d37c52-bc9b-4834-a922-01e1ea6af7b3",
   "metadata": {},
   "outputs": [],
   "source": [
    "data = db.read_text(r\"http://az.lib.ru/g/gogolx_n_w/text_0090.shtml\")"
   ]
  },
  {
   "cell_type": "code",
   "execution_count": null,
   "id": "4a9d9f8e-7a18-4479-8347-3b4f6226ed45",
   "metadata": {},
   "outputs": [],
   "source": [
    "data = db.read_text('input.txt')"
   ]
  },
  {
   "cell_type": "code",
   "execution_count": null,
   "id": "8fc72528-0862-435c-85f9-73c5b789dd49",
   "metadata": {},
   "outputs": [],
   "source": [
    "data.compute()"
   ]
  },
  {
   "cell_type": "code",
   "execution_count": null,
   "id": "30d5c5ce-f164-45b0-8d8b-86a4402415e9",
   "metadata": {},
   "outputs": [],
   "source": [
    "data.str.split().compute()"
   ]
  },
  {
   "cell_type": "code",
   "execution_count": null,
   "id": "f28aa771-d1d8-47b2-8009-a5b9c4a5a336",
   "metadata": {},
   "outputs": [],
   "source": [
    "words = data.str.split().flatten()"
   ]
  },
  {
   "cell_type": "code",
   "execution_count": null,
   "id": "f6427d7b-0d34-4828-a60c-6966da35f892",
   "metadata": {},
   "outputs": [],
   "source": [
    "word_count = words.frequencies()"
   ]
  },
  {
   "cell_type": "code",
   "execution_count": null,
   "id": "1c5f05df-b743-45b1-afd7-68029f5a8277",
   "metadata": {},
   "outputs": [],
   "source": [
    "word_count.compute()"
   ]
  },
  {
   "cell_type": "code",
   "execution_count": null,
   "id": "aa74d24a-9f98-4dfd-986b-6da3f1534be9",
   "metadata": {},
   "outputs": [],
   "source": [
    "data = db.read_text('input.txt').str.split()\n",
    "words = data.flatten()\n",
    "word_count = words.frequencies()\n",
    "pd.DataFrame(word_count, columns=['Word', 'Frequency'])"
   ]
  },
  {
   "cell_type": "code",
   "execution_count": null,
   "id": "26457ca7-f7cf-41a4-96a0-f095b9e42615",
   "metadata": {},
   "outputs": [],
   "source": [
    "# Построить гистограмму распределения"
   ]
  }
 ],
 "metadata": {
  "kernelspec": {
   "display_name": "Python 3 (ipykernel)",
   "language": "python",
   "name": "python3"
  },
  "language_info": {
   "codemirror_mode": {
    "name": "ipython",
    "version": 3
   },
   "file_extension": ".py",
   "mimetype": "text/x-python",
   "name": "python",
   "nbconvert_exporter": "python",
   "pygments_lexer": "ipython3",
   "version": "3.11.7"
  }
 },
 "nbformat": 4,
 "nbformat_minor": 5
}
