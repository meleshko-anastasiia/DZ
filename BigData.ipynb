{
 "cells": [
  {
   "cell_type": "code",
   "execution_count": 232,
   "id": "4421e1e6-d92b-4d6e-9b39-70b21d1e3abb",
   "metadata": {},
   "outputs": [],
   "source": [
    "import bs4\n",
    "import requests\n",
    "import string\n",
    "import pandas as pd\n",
    "import numpy as np\n",
    "import matplotlib.pyplot as plt\n",
    "import warnings\n",
    "warnings.filterwarnings('ignore')\n",
    "\n",
    "url = \"http://az.lib.ru/g/gogolx_n_w/text_0090.shtml\"\n",
    "response = requests.get(url)\n",
    "soup = bs4.BeautifulSoup(response.text,'lxml')\n",
    "text = soup.body.get_text(' ', strip=True)"
   ]
  },
  {
   "cell_type": "code",
   "execution_count": 193,
   "id": "e13f52d4-5d0a-4425-b5f0-1b3faa1c061c",
   "metadata": {},
   "outputs": [
    {
     "name": "stdout",
     "output_type": "stream",
     "text": [
      "Requirement already satisfied: bs4 in c:\\users\\user1\\anaconda3\\lib\\site-packages (0.0.2)\n",
      "Requirement already satisfied: beautifulsoup4 in c:\\users\\user1\\anaconda3\\lib\\site-packages (from bs4) (4.12.3)\n",
      "Requirement already satisfied: soupsieve>1.2 in c:\\users\\user1\\anaconda3\\lib\\site-packages (from beautifulsoup4->bs4) (2.5)\n",
      "Note: you may need to restart the kernel to use updated packages.\n"
     ]
    }
   ],
   "source": [
    "pip install bs4"
   ]
  },
  {
   "cell_type": "code",
   "execution_count": 24,
   "id": "2ca41c57-63cc-434d-acf7-33753821d60b",
   "metadata": {},
   "outputs": [],
   "source": [
    "#Определить 10 самых часто встречающихся слов"
   ]
  },
  {
   "cell_type": "code",
   "execution_count": 236,
   "id": "a53e0cb5-a4d2-4b24-9bb3-31a44d367e8f",
   "metadata": {},
   "outputs": [],
   "source": [
    "data = db.read_text(r\"http://az.lib.ru/g/gogolx_n_w/text_0090.shtml\")"
   ]
  },
  {
   "cell_type": "code",
   "execution_count": 153,
   "id": "e24fc422-7219-456b-82a7-089c4107add5",
   "metadata": {},
   "outputs": [],
   "source": [
    "data = db.read_text('input.txt')"
   ]
  },
  {
   "cell_type": "code",
   "execution_count": 240,
   "id": "ffbc5195-a2ce-46cd-83c3-f4f9c5207781",
   "metadata": {},
   "outputs": [
    {
     "ename": "UnicodeDecodeError",
     "evalue": "'utf-8' codec can't decode byte 0xca in position 30: invalid continuation byte",
     "output_type": "error",
     "traceback": [
      "\u001b[1;31m---------------------------------------------------------------------------\u001b[0m",
      "\u001b[1;31mUnicodeDecodeError\u001b[0m                        Traceback (most recent call last)",
      "Cell \u001b[1;32mIn[240], line 1\u001b[0m\n\u001b[1;32m----> 1\u001b[0m data\u001b[38;5;241m.\u001b[39mcompute()\n",
      "File \u001b[1;32m~\\anaconda3\\Lib\\site-packages\\dask\\base.py:376\u001b[0m, in \u001b[0;36mDaskMethodsMixin.compute\u001b[1;34m(self, **kwargs)\u001b[0m\n\u001b[0;32m    352\u001b[0m \u001b[38;5;28;01mdef\u001b[39;00m \u001b[38;5;21mcompute\u001b[39m(\u001b[38;5;28mself\u001b[39m, \u001b[38;5;241m*\u001b[39m\u001b[38;5;241m*\u001b[39mkwargs):\n\u001b[0;32m    353\u001b[0m \u001b[38;5;250m    \u001b[39m\u001b[38;5;124;03m\"\"\"Compute this dask collection\u001b[39;00m\n\u001b[0;32m    354\u001b[0m \n\u001b[0;32m    355\u001b[0m \u001b[38;5;124;03m    This turns a lazy Dask collection into its in-memory equivalent.\u001b[39;00m\n\u001b[1;32m   (...)\u001b[0m\n\u001b[0;32m    374\u001b[0m \u001b[38;5;124;03m    dask.compute\u001b[39;00m\n\u001b[0;32m    375\u001b[0m \u001b[38;5;124;03m    \"\"\"\u001b[39;00m\n\u001b[1;32m--> 376\u001b[0m     (result,) \u001b[38;5;241m=\u001b[39m compute(\u001b[38;5;28mself\u001b[39m, traverse\u001b[38;5;241m=\u001b[39m\u001b[38;5;28;01mFalse\u001b[39;00m, \u001b[38;5;241m*\u001b[39m\u001b[38;5;241m*\u001b[39mkwargs)\n\u001b[0;32m    377\u001b[0m     \u001b[38;5;28;01mreturn\u001b[39;00m result\n",
      "File \u001b[1;32m~\\anaconda3\\Lib\\site-packages\\dask\\base.py:664\u001b[0m, in \u001b[0;36mcompute\u001b[1;34m(traverse, optimize_graph, scheduler, get, *args, **kwargs)\u001b[0m\n\u001b[0;32m    661\u001b[0m     postcomputes\u001b[38;5;241m.\u001b[39mappend(x\u001b[38;5;241m.\u001b[39m__dask_postcompute__())\n\u001b[0;32m    663\u001b[0m \u001b[38;5;28;01mwith\u001b[39;00m shorten_traceback():\n\u001b[1;32m--> 664\u001b[0m     results \u001b[38;5;241m=\u001b[39m schedule(dsk, keys, \u001b[38;5;241m*\u001b[39m\u001b[38;5;241m*\u001b[39mkwargs)\n\u001b[0;32m    666\u001b[0m \u001b[38;5;28;01mreturn\u001b[39;00m repack([f(r, \u001b[38;5;241m*\u001b[39ma) \u001b[38;5;28;01mfor\u001b[39;00m r, (f, a) \u001b[38;5;129;01min\u001b[39;00m \u001b[38;5;28mzip\u001b[39m(results, postcomputes)])\n",
      "File \u001b[1;32m~\\anaconda3\\Lib\\site-packages\\dask\\bag\\core.py:1868\u001b[0m, in \u001b[0;36mreify\u001b[1;34m()\u001b[0m\n\u001b[0;32m   1866\u001b[0m \u001b[38;5;28;01mdef\u001b[39;00m \u001b[38;5;21mreify\u001b[39m(seq):\n\u001b[0;32m   1867\u001b[0m     \u001b[38;5;28;01mif\u001b[39;00m \u001b[38;5;28misinstance\u001b[39m(seq, Iterator):\n\u001b[1;32m-> 1868\u001b[0m         seq \u001b[38;5;241m=\u001b[39m \u001b[38;5;28mlist\u001b[39m(seq)\n\u001b[0;32m   1869\u001b[0m     \u001b[38;5;28;01mif\u001b[39;00m \u001b[38;5;28mlen\u001b[39m(seq) \u001b[38;5;129;01mand\u001b[39;00m \u001b[38;5;28misinstance\u001b[39m(seq[\u001b[38;5;241m0\u001b[39m], Iterator):\n\u001b[0;32m   1870\u001b[0m         seq \u001b[38;5;241m=\u001b[39m \u001b[38;5;28mlist\u001b[39m(\u001b[38;5;28mmap\u001b[39m(\u001b[38;5;28mlist\u001b[39m, seq))\n",
      "File \u001b[1;32m~\\anaconda3\\Lib\\site-packages\\dask\\bag\\text.py:177\u001b[0m, in \u001b[0;36mfile_to_blocks\u001b[1;34m()\u001b[0m\n\u001b[0;32m    172\u001b[0m     \u001b[38;5;28;01myield from\u001b[39;00m (\n\u001b[0;32m    173\u001b[0m         (line, lazy_file\u001b[38;5;241m.\u001b[39mpath) \u001b[38;5;28;01mif\u001b[39;00m include_path \u001b[38;5;28;01melse\u001b[39;00m line\n\u001b[0;32m    174\u001b[0m         \u001b[38;5;28;01mfor\u001b[39;00m line \u001b[38;5;129;01min\u001b[39;00m [line \u001b[38;5;241m+\u001b[39m delimiter \u001b[38;5;28;01mfor\u001b[39;00m line \u001b[38;5;129;01min\u001b[39;00m parts[:\u001b[38;5;241m-\u001b[39m\u001b[38;5;241m1\u001b[39m]] \u001b[38;5;241m+\u001b[39m parts[\u001b[38;5;241m-\u001b[39m\u001b[38;5;241m1\u001b[39m:]\n\u001b[0;32m    175\u001b[0m     )\n\u001b[0;32m    176\u001b[0m \u001b[38;5;28;01melse\u001b[39;00m:\n\u001b[1;32m--> 177\u001b[0m     \u001b[38;5;28;01mfor\u001b[39;00m line \u001b[38;5;129;01min\u001b[39;00m f:\n\u001b[0;32m    178\u001b[0m         \u001b[38;5;28;01myield\u001b[39;00m (line, lazy_file\u001b[38;5;241m.\u001b[39mpath) \u001b[38;5;28;01mif\u001b[39;00m include_path \u001b[38;5;28;01melse\u001b[39;00m line\n",
      "File \u001b[1;32m<frozen codecs>:322\u001b[0m, in \u001b[0;36mdecode\u001b[1;34m()\u001b[0m\n",
      "\u001b[1;31mUnicodeDecodeError\u001b[0m: 'utf-8' codec can't decode byte 0xca in position 30: invalid continuation byte"
     ]
    }
   ],
   "source": [
    "data.compute()"
   ]
  },
  {
   "cell_type": "code",
   "execution_count": null,
   "id": "273f5529-ca96-49c0-960f-0e84ceee6d3f",
   "metadata": {},
   "outputs": [],
   "source": [
    "data.str.split().compute()"
   ]
  },
  {
   "cell_type": "code",
   "execution_count": null,
   "id": "0882853e-9705-4e02-bb85-4d6dcfdb41a1",
   "metadata": {},
   "outputs": [],
   "source": [
    "words = data.str.split().flatten()"
   ]
  },
  {
   "cell_type": "code",
   "execution_count": null,
   "id": "623c05e4-cab7-44e7-9adf-08c677bae8be",
   "metadata": {},
   "outputs": [],
   "source": [
    "word_count = words.frequencies()"
   ]
  },
  {
   "cell_type": "code",
   "execution_count": null,
   "id": "15b424c6-61f5-4ac8-9e0a-de8b1838975f",
   "metadata": {},
   "outputs": [],
   "source": [
    "word_count.compute()"
   ]
  },
  {
   "cell_type": "code",
   "execution_count": null,
   "id": "07e0ea22-ee84-45eb-a526-6b5d0b9645c2",
   "metadata": {},
   "outputs": [],
   "source": [
    "data = db.read_text('input.txt').str.split()\n",
    "words = data.flatten()\n",
    "word_count = words.frequencies()\n",
    "pd.DataFrame(word_count, columns=['Word', 'Frequency'])"
   ]
  },
  {
   "cell_type": "code",
   "execution_count": 104,
   "id": "9d9c8382-5302-4135-9592-68592590f4ea",
   "metadata": {},
   "outputs": [],
   "source": [
    "# Построить гистограмму распределения"
   ]
  },
  {
   "cell_type": "code",
   "execution_count": null,
   "id": "b5d539ac-3077-4faa-962b-d905fce3ab88",
   "metadata": {},
   "outputs": [],
   "source": []
  },
  {
   "cell_type": "code",
   "execution_count": null,
   "id": "b97e6c6b-3843-44e8-bde7-2b6e295b2b4e",
   "metadata": {},
   "outputs": [],
   "source": []
  }
 ],
 "metadata": {
  "kernelspec": {
   "display_name": "Python 3 (ipykernel)",
   "language": "python",
   "name": "python3"
  },
  "language_info": {
   "codemirror_mode": {
    "name": "ipython",
    "version": 3
   },
   "file_extension": ".py",
   "mimetype": "text/x-python",
   "name": "python",
   "nbconvert_exporter": "python",
   "pygments_lexer": "ipython3",
   "version": "3.12.7"
  }
 },
 "nbformat": 4,
 "nbformat_minor": 5
}
