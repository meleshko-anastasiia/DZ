{
 "cells": [
  {
   "cell_type": "code",
   "execution_count": 21,
   "id": "4421e1e6-d92b-4d6e-9b39-70b21d1e3abb",
   "metadata": {},
   "outputs": [],
   "source": [
    "import bs4\n",
    "import requests\n",
    "import string\n",
    "import pandas as pd\n",
    "import numpy as np\n",
    "import matplotlib.pyplot as plt\n",
    "\n",
    "url = \"http://www.lib.ru/LITRA/LERMONTOW/plennik.txt\"\n",
    "response = requests.get(url)\n",
    "soup = bs4.BeautifulSoup(response.text,'lxml')\n",
    "text = soup.body.get_text(' ', strip=True)"
   ]
  },
  {
   "cell_type": "code",
   "execution_count": 24,
   "id": "2ca41c57-63cc-434d-acf7-33753821d60b",
   "metadata": {},
   "outputs": [],
   "source": [
    "#Определить 10 самых часто встречающихся слов"
   ]
  },
  {
   "cell_type": "code",
   "execution_count": null,
   "id": "e24fc422-7219-456b-82a7-089c4107add5",
   "metadata": {},
   "outputs": [],
   "source": [
    "data = db.read_text('input.txt')"
   ]
  },
  {
   "cell_type": "code",
   "execution_count": null,
   "id": "ffbc5195-a2ce-46cd-83c3-f4f9c5207781",
   "metadata": {},
   "outputs": [],
   "source": [
    "data.compute()"
   ]
  },
  {
   "cell_type": "code",
   "execution_count": null,
   "id": "273f5529-ca96-49c0-960f-0e84ceee6d3f",
   "metadata": {},
   "outputs": [],
   "source": [
    "data.str.split().compute()"
   ]
  },
  {
   "cell_type": "code",
   "execution_count": null,
   "id": "0882853e-9705-4e02-bb85-4d6dcfdb41a1",
   "metadata": {},
   "outputs": [],
   "source": [
    "words = data.str.split().flatten()"
   ]
  },
  {
   "cell_type": "code",
   "execution_count": null,
   "id": "941c138f-1701-491e-b0d4-444a3a111430",
   "metadata": {},
   "outputs": [],
   "source": [
    "words.compute()"
   ]
  },
  {
   "cell_type": "code",
   "execution_count": null,
   "id": "623c05e4-cab7-44e7-9adf-08c677bae8be",
   "metadata": {},
   "outputs": [],
   "source": [
    "word_count = words.frequencies()"
   ]
  },
  {
   "cell_type": "code",
   "execution_count": null,
   "id": "15b424c6-61f5-4ac8-9e0a-de8b1838975f",
   "metadata": {},
   "outputs": [],
   "source": [
    "word_count.compute()"
   ]
  },
  {
   "cell_type": "code",
   "execution_count": null,
   "id": "07e0ea22-ee84-45eb-a526-6b5d0b9645c2",
   "metadata": {},
   "outputs": [],
   "source": [
    "data = db.read_text('input.txt').str.split()\n",
    "words = data.flatten()\n",
    "word_count = words.frequencies()\n",
    "pd.DataFrame(word_count, columns=['Word', 'Frequency'])"
   ]
  }
 ],
 "metadata": {
  "kernelspec": {
   "display_name": "Python 3 (ipykernel)",
   "language": "python",
   "name": "python3"
  },
  "language_info": {
   "codemirror_mode": {
    "name": "ipython",
    "version": 3
   },
   "file_extension": ".py",
   "mimetype": "text/x-python",
   "name": "python",
   "nbconvert_exporter": "python",
   "pygments_lexer": "ipython3",
   "version": "3.12.7"
  }
 },
 "nbformat": 4,
 "nbformat_minor": 5
}
